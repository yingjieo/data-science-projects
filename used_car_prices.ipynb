{
 "cells": [
  {
   "cell_type": "markdown",
   "id": "af59f6ec",
   "metadata": {},
   "source": [
    "# Capstone Project: Used Car Prices\n",
    "\n",
    "Yingjie Ouyang's final capstone project, which focuses on developing a model that predicts the price of used cars.\n",
    "\n",
    "Adapted from MIT and Great Learning"
   ]
  },
  {
   "cell_type": "markdown",
   "id": "fd473e8f",
   "metadata": {},
   "source": [
    "### **Context:**\n",
    "\n",
    " Cars are an essential part of every day life, serving as the most common form of transportation, especially when public transportation is unavailable or unreliable and places are too far to reach by foot. Many households own at least one car, and it isn't an uncommon sight to see highways congested with cars all trying to reach their destination. In the car market, used cars make up a significant portion, with many preferring to buy second-handed due to their more affordable prices.\n",
    " \n",
    " The price of used cars often depends on many features, such as model, the year it was manufactured, and how much it has already been driven before being sold. A model that predicts the price of used cars is useful to buyers in the market for a car, but do not wish to exceed their budget over a brand new car. The model would aid buyers in finding the appropriate car that suits their needs as well as being within budget, as well as allowing them to get more use out of a previously-owned car as opposed to sending it to be scrapped."
   ]
  },
  {
   "cell_type": "markdown",
   "id": "d6054d24",
   "metadata": {},
   "source": [
    "### **The objective:**\n",
    "\n",
    " Based on the features given, construct a model that predicts the price of used cars. The model should take into account the most important aspects of a used car that contributes to its price. In addition, the model will be optimized using machine learning algorithms to ensure that it performs to the best of its ability."
   ]
  },
  {
   "cell_type": "markdown",
   "id": "08a77c2c",
   "metadata": {},
   "source": [
    "### **The key questions:**\n",
    "\n",
    "Some key questions include:\n",
    "- What are the most important features that affect the price of used cars?\n",
    "- How do we understand the relationship between features and how does that affect how we build the model?\n",
    "- What steps need to be taken to build the model?\n",
    "- How can the model be trained and optimized using machine learning algorithms?"
   ]
  },
  {
   "cell_type": "markdown",
   "id": "e1830211",
   "metadata": {},
   "source": [
    "### **The problem formulation**:\n",
    "\n",
    "By identifying the most important features that affect used car prices, we can build a linear regression model to predict the data we do not have."
   ]
  },
  {
   "cell_type": "markdown",
   "id": "e3abe935",
   "metadata": {},
   "source": [
    "## **Data Dictionary**\n",
    "\n",
    "**S.No.** : Serial Number\n",
    "\n",
    "**Name** : Name of the car which includes Brand name and Model name\n",
    "\n",
    "**Location** : The location in which the car is being sold or is available for purchase (Cities)\n",
    "\n",
    "**Year** : Manufacturing year of the car\n",
    "\n",
    "**Kilometers_driven** : The total kilometers driven in the car by the previous owner(s) in KM\n",
    "\n",
    "**Fuel_Type** : The type of fuel used by the car (Petrol, Diesel, Electric, CNG, LPG)\n",
    "\n",
    "**Transmission** : The type of transmission used by the car (Automatic / Manual)\n",
    "\n",
    "**Owner** : Type of ownership\n",
    "\n",
    "**Mileage** : The standard mileage offered by the car company in kmpl or km/kg\n",
    "\n",
    "**Engine** : The displacement volume of the engine in CC\n",
    "\n",
    "**Power** : The maximum power of the engine in bhp\n",
    "\n",
    "**Seats** : The number of seats in the car\n",
    "\n",
    "**New_Price** : The price of a new car of the same model in INR 100,000\n",
    "\n",
    "**Price** : The price of the used car in INR 100,000 (**Target Variable**)\n",
    "\n",
    "Adapted from MIT"
   ]
  },
  {
   "cell_type": "code",
   "execution_count": 1,
   "id": "70175b1a",
   "metadata": {},
   "outputs": [],
   "source": [
    "# Import required libraries\n",
    "import pandas as pd\n",
    "import numpy as np\n",
    "\n",
    "import matplotlib.pyplot as plt\n",
    "import seaborn as sns\n",
    "\n",
    "# To ignore warnings\n",
    "import warnings\n",
    "warnings.filterwarnings('ignore')\n",
    "\n",
    "# Remove the limit from the number of displayed columns and rows. It helps to see the entire dataframe while printing it\n",
    "pd.set_option(\"display.max_columns\", None)"
   ]
  },
  {
   "cell_type": "code",
   "execution_count": 2,
   "id": "2c681686",
   "metadata": {},
   "outputs": [],
   "source": [
    "data = pd.read_csv(\"used_cars.csv\")"
   ]
  },
  {
   "cell_type": "code",
   "execution_count": 3,
   "id": "1d731fa1",
   "metadata": {},
   "outputs": [
    {
     "data": {
      "text/html": [
       "<div>\n",
       "<style scoped>\n",
       "    .dataframe tbody tr th:only-of-type {\n",
       "        vertical-align: middle;\n",
       "    }\n",
       "\n",
       "    .dataframe tbody tr th {\n",
       "        vertical-align: top;\n",
       "    }\n",
       "\n",
       "    .dataframe thead th {\n",
       "        text-align: right;\n",
       "    }\n",
       "</style>\n",
       "<table border=\"1\" class=\"dataframe\">\n",
       "  <thead>\n",
       "    <tr style=\"text-align: right;\">\n",
       "      <th></th>\n",
       "      <th>S.No.</th>\n",
       "      <th>Name</th>\n",
       "      <th>Location</th>\n",
       "      <th>Year</th>\n",
       "      <th>Kilometers_Driven</th>\n",
       "      <th>Fuel_Type</th>\n",
       "      <th>Transmission</th>\n",
       "      <th>Owner_Type</th>\n",
       "      <th>Mileage</th>\n",
       "      <th>Engine</th>\n",
       "      <th>Power</th>\n",
       "      <th>Seats</th>\n",
       "      <th>New_price</th>\n",
       "      <th>Price</th>\n",
       "    </tr>\n",
       "  </thead>\n",
       "  <tbody>\n",
       "    <tr>\n",
       "      <th>0</th>\n",
       "      <td>0</td>\n",
       "      <td>Maruti Wagon R LXI CNG</td>\n",
       "      <td>Mumbai</td>\n",
       "      <td>2010</td>\n",
       "      <td>72000</td>\n",
       "      <td>CNG</td>\n",
       "      <td>Manual</td>\n",
       "      <td>First</td>\n",
       "      <td>26.60</td>\n",
       "      <td>998.0</td>\n",
       "      <td>58.16</td>\n",
       "      <td>5.0</td>\n",
       "      <td>NaN</td>\n",
       "      <td>1.75</td>\n",
       "    </tr>\n",
       "    <tr>\n",
       "      <th>1</th>\n",
       "      <td>1</td>\n",
       "      <td>Hyundai Creta 1.6 CRDi SX Option</td>\n",
       "      <td>Pune</td>\n",
       "      <td>2015</td>\n",
       "      <td>41000</td>\n",
       "      <td>Diesel</td>\n",
       "      <td>Manual</td>\n",
       "      <td>First</td>\n",
       "      <td>19.67</td>\n",
       "      <td>1582.0</td>\n",
       "      <td>126.20</td>\n",
       "      <td>5.0</td>\n",
       "      <td>NaN</td>\n",
       "      <td>12.50</td>\n",
       "    </tr>\n",
       "    <tr>\n",
       "      <th>2</th>\n",
       "      <td>2</td>\n",
       "      <td>Honda Jazz V</td>\n",
       "      <td>Chennai</td>\n",
       "      <td>2011</td>\n",
       "      <td>46000</td>\n",
       "      <td>Petrol</td>\n",
       "      <td>Manual</td>\n",
       "      <td>First</td>\n",
       "      <td>18.20</td>\n",
       "      <td>1199.0</td>\n",
       "      <td>88.70</td>\n",
       "      <td>5.0</td>\n",
       "      <td>8.61</td>\n",
       "      <td>4.50</td>\n",
       "    </tr>\n",
       "    <tr>\n",
       "      <th>3</th>\n",
       "      <td>3</td>\n",
       "      <td>Maruti Ertiga VDI</td>\n",
       "      <td>Chennai</td>\n",
       "      <td>2012</td>\n",
       "      <td>87000</td>\n",
       "      <td>Diesel</td>\n",
       "      <td>Manual</td>\n",
       "      <td>First</td>\n",
       "      <td>20.77</td>\n",
       "      <td>1248.0</td>\n",
       "      <td>88.76</td>\n",
       "      <td>7.0</td>\n",
       "      <td>NaN</td>\n",
       "      <td>6.00</td>\n",
       "    </tr>\n",
       "    <tr>\n",
       "      <th>4</th>\n",
       "      <td>4</td>\n",
       "      <td>Audi A4 New 2.0 TDI Multitronic</td>\n",
       "      <td>Coimbatore</td>\n",
       "      <td>2013</td>\n",
       "      <td>40670</td>\n",
       "      <td>Diesel</td>\n",
       "      <td>Automatic</td>\n",
       "      <td>Second</td>\n",
       "      <td>15.20</td>\n",
       "      <td>1968.0</td>\n",
       "      <td>140.80</td>\n",
       "      <td>5.0</td>\n",
       "      <td>NaN</td>\n",
       "      <td>17.74</td>\n",
       "    </tr>\n",
       "  </tbody>\n",
       "</table>\n",
       "</div>"
      ],
      "text/plain": [
       "   S.No.                              Name    Location  Year  \\\n",
       "0      0            Maruti Wagon R LXI CNG      Mumbai  2010   \n",
       "1      1  Hyundai Creta 1.6 CRDi SX Option        Pune  2015   \n",
       "2      2                      Honda Jazz V     Chennai  2011   \n",
       "3      3                 Maruti Ertiga VDI     Chennai  2012   \n",
       "4      4   Audi A4 New 2.0 TDI Multitronic  Coimbatore  2013   \n",
       "\n",
       "   Kilometers_Driven Fuel_Type Transmission Owner_Type  Mileage  Engine  \\\n",
       "0              72000       CNG       Manual      First    26.60   998.0   \n",
       "1              41000    Diesel       Manual      First    19.67  1582.0   \n",
       "2              46000    Petrol       Manual      First    18.20  1199.0   \n",
       "3              87000    Diesel       Manual      First    20.77  1248.0   \n",
       "4              40670    Diesel    Automatic     Second    15.20  1968.0   \n",
       "\n",
       "    Power  Seats  New_price  Price  \n",
       "0   58.16    5.0        NaN   1.75  \n",
       "1  126.20    5.0        NaN  12.50  \n",
       "2   88.70    5.0       8.61   4.50  \n",
       "3   88.76    7.0        NaN   6.00  \n",
       "4  140.80    5.0        NaN  17.74  "
      ]
     },
     "execution_count": 3,
     "metadata": {},
     "output_type": "execute_result"
    }
   ],
   "source": [
    "# View first 5 rows\n",
    "data.head()"
   ]
  },
  {
   "cell_type": "code",
   "execution_count": 4,
   "id": "38316b5b",
   "metadata": {},
   "outputs": [
    {
     "data": {
      "text/html": [
       "<div>\n",
       "<style scoped>\n",
       "    .dataframe tbody tr th:only-of-type {\n",
       "        vertical-align: middle;\n",
       "    }\n",
       "\n",
       "    .dataframe tbody tr th {\n",
       "        vertical-align: top;\n",
       "    }\n",
       "\n",
       "    .dataframe thead th {\n",
       "        text-align: right;\n",
       "    }\n",
       "</style>\n",
       "<table border=\"1\" class=\"dataframe\">\n",
       "  <thead>\n",
       "    <tr style=\"text-align: right;\">\n",
       "      <th></th>\n",
       "      <th>S.No.</th>\n",
       "      <th>Name</th>\n",
       "      <th>Location</th>\n",
       "      <th>Year</th>\n",
       "      <th>Kilometers_Driven</th>\n",
       "      <th>Fuel_Type</th>\n",
       "      <th>Transmission</th>\n",
       "      <th>Owner_Type</th>\n",
       "      <th>Mileage</th>\n",
       "      <th>Engine</th>\n",
       "      <th>Power</th>\n",
       "      <th>Seats</th>\n",
       "      <th>New_price</th>\n",
       "      <th>Price</th>\n",
       "    </tr>\n",
       "  </thead>\n",
       "  <tbody>\n",
       "    <tr>\n",
       "      <th>7248</th>\n",
       "      <td>7248</td>\n",
       "      <td>Volkswagen Vento Diesel Trendline</td>\n",
       "      <td>Hyderabad</td>\n",
       "      <td>2011</td>\n",
       "      <td>89411</td>\n",
       "      <td>Diesel</td>\n",
       "      <td>Manual</td>\n",
       "      <td>First</td>\n",
       "      <td>20.54</td>\n",
       "      <td>1598.0</td>\n",
       "      <td>103.6</td>\n",
       "      <td>5.0</td>\n",
       "      <td>NaN</td>\n",
       "      <td>NaN</td>\n",
       "    </tr>\n",
       "    <tr>\n",
       "      <th>7249</th>\n",
       "      <td>7249</td>\n",
       "      <td>Volkswagen Polo GT TSI</td>\n",
       "      <td>Mumbai</td>\n",
       "      <td>2015</td>\n",
       "      <td>59000</td>\n",
       "      <td>Petrol</td>\n",
       "      <td>Automatic</td>\n",
       "      <td>First</td>\n",
       "      <td>17.21</td>\n",
       "      <td>1197.0</td>\n",
       "      <td>103.6</td>\n",
       "      <td>5.0</td>\n",
       "      <td>NaN</td>\n",
       "      <td>NaN</td>\n",
       "    </tr>\n",
       "    <tr>\n",
       "      <th>7250</th>\n",
       "      <td>7250</td>\n",
       "      <td>Nissan Micra Diesel XV</td>\n",
       "      <td>Kolkata</td>\n",
       "      <td>2012</td>\n",
       "      <td>28000</td>\n",
       "      <td>Diesel</td>\n",
       "      <td>Manual</td>\n",
       "      <td>First</td>\n",
       "      <td>23.08</td>\n",
       "      <td>1461.0</td>\n",
       "      <td>63.1</td>\n",
       "      <td>5.0</td>\n",
       "      <td>NaN</td>\n",
       "      <td>NaN</td>\n",
       "    </tr>\n",
       "    <tr>\n",
       "      <th>7251</th>\n",
       "      <td>7251</td>\n",
       "      <td>Volkswagen Polo GT TSI</td>\n",
       "      <td>Pune</td>\n",
       "      <td>2013</td>\n",
       "      <td>52262</td>\n",
       "      <td>Petrol</td>\n",
       "      <td>Automatic</td>\n",
       "      <td>Third</td>\n",
       "      <td>17.20</td>\n",
       "      <td>1197.0</td>\n",
       "      <td>103.6</td>\n",
       "      <td>5.0</td>\n",
       "      <td>NaN</td>\n",
       "      <td>NaN</td>\n",
       "    </tr>\n",
       "    <tr>\n",
       "      <th>7252</th>\n",
       "      <td>7252</td>\n",
       "      <td>Mercedes-Benz E-Class 2009-2013 E 220 CDI Avan...</td>\n",
       "      <td>Kochi</td>\n",
       "      <td>2014</td>\n",
       "      <td>72443</td>\n",
       "      <td>Diesel</td>\n",
       "      <td>Automatic</td>\n",
       "      <td>First</td>\n",
       "      <td>10.00</td>\n",
       "      <td>2148.0</td>\n",
       "      <td>170.0</td>\n",
       "      <td>5.0</td>\n",
       "      <td>NaN</td>\n",
       "      <td>NaN</td>\n",
       "    </tr>\n",
       "  </tbody>\n",
       "</table>\n",
       "</div>"
      ],
      "text/plain": [
       "      S.No.                                               Name   Location  \\\n",
       "7248   7248                  Volkswagen Vento Diesel Trendline  Hyderabad   \n",
       "7249   7249                             Volkswagen Polo GT TSI     Mumbai   \n",
       "7250   7250                             Nissan Micra Diesel XV    Kolkata   \n",
       "7251   7251                             Volkswagen Polo GT TSI       Pune   \n",
       "7252   7252  Mercedes-Benz E-Class 2009-2013 E 220 CDI Avan...      Kochi   \n",
       "\n",
       "      Year  Kilometers_Driven Fuel_Type Transmission Owner_Type  Mileage  \\\n",
       "7248  2011              89411    Diesel       Manual      First    20.54   \n",
       "7249  2015              59000    Petrol    Automatic      First    17.21   \n",
       "7250  2012              28000    Diesel       Manual      First    23.08   \n",
       "7251  2013              52262    Petrol    Automatic      Third    17.20   \n",
       "7252  2014              72443    Diesel    Automatic      First    10.00   \n",
       "\n",
       "      Engine  Power  Seats  New_price  Price  \n",
       "7248  1598.0  103.6    5.0        NaN    NaN  \n",
       "7249  1197.0  103.6    5.0        NaN    NaN  \n",
       "7250  1461.0   63.1    5.0        NaN    NaN  \n",
       "7251  1197.0  103.6    5.0        NaN    NaN  \n",
       "7252  2148.0  170.0    5.0        NaN    NaN  "
      ]
     },
     "execution_count": 4,
     "metadata": {},
     "output_type": "execute_result"
    }
   ],
   "source": [
    "# View last 5 rows\n",
    "data.tail()"
   ]
  },
  {
   "cell_type": "markdown",
   "id": "87e3cbe5",
   "metadata": {},
   "source": [
    "**Observations and Insights:**\n",
    "- There are 7252 entries in the data\n",
    "- S.No. of each row matches its index value, so it can most likely be dropped\n",
    "- New_price and Price can have null values"
   ]
  },
  {
   "cell_type": "code",
   "execution_count": 5,
   "id": "c597eafb",
   "metadata": {},
   "outputs": [
    {
     "name": "stdout",
     "output_type": "stream",
     "text": [
      "<class 'pandas.core.frame.DataFrame'>\n",
      "RangeIndex: 7253 entries, 0 to 7252\n",
      "Data columns (total 14 columns):\n",
      " #   Column             Non-Null Count  Dtype  \n",
      "---  ------             --------------  -----  \n",
      " 0   S.No.              7253 non-null   int64  \n",
      " 1   Name               7253 non-null   object \n",
      " 2   Location           7253 non-null   object \n",
      " 3   Year               7253 non-null   int64  \n",
      " 4   Kilometers_Driven  7253 non-null   int64  \n",
      " 5   Fuel_Type          7253 non-null   object \n",
      " 6   Transmission       7253 non-null   object \n",
      " 7   Owner_Type         7253 non-null   object \n",
      " 8   Mileage            7251 non-null   float64\n",
      " 9   Engine             7207 non-null   float64\n",
      " 10  Power              7078 non-null   float64\n",
      " 11  Seats              7200 non-null   float64\n",
      " 12  New_price          1006 non-null   float64\n",
      " 13  Price              6019 non-null   float64\n",
      "dtypes: float64(6), int64(3), object(5)\n",
      "memory usage: 793.4+ KB\n"
     ]
    }
   ],
   "source": [
    "# Check the datatypes of each column\n",
    "data.info()"
   ]
  },
  {
   "cell_type": "code",
   "execution_count": 6,
   "id": "fe9f23d2",
   "metadata": {},
   "outputs": [
    {
     "data": {
      "text/plain": [
       "S.No.                   0\n",
       "Name                    0\n",
       "Location                0\n",
       "Year                    0\n",
       "Kilometers_Driven       0\n",
       "Fuel_Type               0\n",
       "Transmission            0\n",
       "Owner_Type              0\n",
       "Mileage                 2\n",
       "Engine                 46\n",
       "Power                 175\n",
       "Seats                  53\n",
       "New_price            6247\n",
       "Price                1234\n",
       "dtype: int64"
      ]
     },
     "execution_count": 6,
     "metadata": {},
     "output_type": "execute_result"
    }
   ],
   "source": [
    "# Check total number of missing values of each column\n",
    "data.isnull().sum()"
   ]
  },
  {
   "cell_type": "markdown",
   "id": "a8c4e947",
   "metadata": {},
   "source": [
    "**Observations and Insights:**\n",
    "- All entries are filled with non-null values except Mileage, Engine, Power, Seats, New_price, and Price\n",
    "- Mileage only has two null values, which could simply just be missing data. Same could possibly apply to Engine, Power, and Seats\n",
    "- New_price has many missing values; almost all of the data under that attribute is missing. This makes sense as we are dealing with used cars whose price for when they were first released may no longer be available."
   ]
  },
  {
   "cell_type": "markdown",
   "id": "ec320793",
   "metadata": {},
   "source": [
    "The `S.No.` column has no null values. In addition, the number of unique values equal to the number of observations. Thus, it can be dropped as it provides no useful information for our predictions"
   ]
  },
  {
   "cell_type": "code",
   "execution_count": 7,
   "id": "42856cd7",
   "metadata": {},
   "outputs": [],
   "source": [
    "data.drop('S.No.', axis = 1, inplace = True)"
   ]
  },
  {
   "cell_type": "markdown",
   "id": "a23c4d49",
   "metadata": {},
   "source": [
    "## **Exploratory Data Analysis**"
   ]
  },
  {
   "cell_type": "code",
   "execution_count": 8,
   "id": "9c8ed066",
   "metadata": {},
   "outputs": [
    {
     "data": {
      "text/html": [
       "<div>\n",
       "<style scoped>\n",
       "    .dataframe tbody tr th:only-of-type {\n",
       "        vertical-align: middle;\n",
       "    }\n",
       "\n",
       "    .dataframe tbody tr th {\n",
       "        vertical-align: top;\n",
       "    }\n",
       "\n",
       "    .dataframe thead th {\n",
       "        text-align: right;\n",
       "    }\n",
       "</style>\n",
       "<table border=\"1\" class=\"dataframe\">\n",
       "  <thead>\n",
       "    <tr style=\"text-align: right;\">\n",
       "      <th></th>\n",
       "      <th>count</th>\n",
       "      <th>mean</th>\n",
       "      <th>std</th>\n",
       "      <th>min</th>\n",
       "      <th>25%</th>\n",
       "      <th>50%</th>\n",
       "      <th>75%</th>\n",
       "      <th>max</th>\n",
       "    </tr>\n",
       "  </thead>\n",
       "  <tbody>\n",
       "    <tr>\n",
       "      <th>Year</th>\n",
       "      <td>7253.0</td>\n",
       "      <td>2013.365366</td>\n",
       "      <td>3.254421</td>\n",
       "      <td>1996.00</td>\n",
       "      <td>2011.000</td>\n",
       "      <td>2014.00</td>\n",
       "      <td>2016.0000</td>\n",
       "      <td>2019.00</td>\n",
       "    </tr>\n",
       "    <tr>\n",
       "      <th>Kilometers_Driven</th>\n",
       "      <td>7253.0</td>\n",
       "      <td>58699.063146</td>\n",
       "      <td>84427.720583</td>\n",
       "      <td>171.00</td>\n",
       "      <td>34000.000</td>\n",
       "      <td>53416.00</td>\n",
       "      <td>73000.0000</td>\n",
       "      <td>6500000.00</td>\n",
       "    </tr>\n",
       "    <tr>\n",
       "      <th>Mileage</th>\n",
       "      <td>7251.0</td>\n",
       "      <td>18.141580</td>\n",
       "      <td>4.562197</td>\n",
       "      <td>0.00</td>\n",
       "      <td>15.170</td>\n",
       "      <td>18.16</td>\n",
       "      <td>21.1000</td>\n",
       "      <td>33.54</td>\n",
       "    </tr>\n",
       "    <tr>\n",
       "      <th>Engine</th>\n",
       "      <td>7207.0</td>\n",
       "      <td>1616.573470</td>\n",
       "      <td>595.285137</td>\n",
       "      <td>72.00</td>\n",
       "      <td>1198.000</td>\n",
       "      <td>1493.00</td>\n",
       "      <td>1968.0000</td>\n",
       "      <td>5998.00</td>\n",
       "    </tr>\n",
       "    <tr>\n",
       "      <th>Power</th>\n",
       "      <td>7078.0</td>\n",
       "      <td>112.765214</td>\n",
       "      <td>53.493553</td>\n",
       "      <td>34.20</td>\n",
       "      <td>75.000</td>\n",
       "      <td>94.00</td>\n",
       "      <td>138.1000</td>\n",
       "      <td>616.00</td>\n",
       "    </tr>\n",
       "    <tr>\n",
       "      <th>Seats</th>\n",
       "      <td>7200.0</td>\n",
       "      <td>5.280417</td>\n",
       "      <td>0.809277</td>\n",
       "      <td>2.00</td>\n",
       "      <td>5.000</td>\n",
       "      <td>5.00</td>\n",
       "      <td>5.0000</td>\n",
       "      <td>10.00</td>\n",
       "    </tr>\n",
       "    <tr>\n",
       "      <th>New_price</th>\n",
       "      <td>1006.0</td>\n",
       "      <td>22.779692</td>\n",
       "      <td>27.759344</td>\n",
       "      <td>3.91</td>\n",
       "      <td>7.885</td>\n",
       "      <td>11.57</td>\n",
       "      <td>26.0425</td>\n",
       "      <td>375.00</td>\n",
       "    </tr>\n",
       "    <tr>\n",
       "      <th>Price</th>\n",
       "      <td>6019.0</td>\n",
       "      <td>9.479468</td>\n",
       "      <td>11.187917</td>\n",
       "      <td>0.44</td>\n",
       "      <td>3.500</td>\n",
       "      <td>5.64</td>\n",
       "      <td>9.9500</td>\n",
       "      <td>160.00</td>\n",
       "    </tr>\n",
       "  </tbody>\n",
       "</table>\n",
       "</div>"
      ],
      "text/plain": [
       "                    count          mean           std      min        25%  \\\n",
       "Year               7253.0   2013.365366      3.254421  1996.00   2011.000   \n",
       "Kilometers_Driven  7253.0  58699.063146  84427.720583   171.00  34000.000   \n",
       "Mileage            7251.0     18.141580      4.562197     0.00     15.170   \n",
       "Engine             7207.0   1616.573470    595.285137    72.00   1198.000   \n",
       "Power              7078.0    112.765214     53.493553    34.20     75.000   \n",
       "Seats              7200.0      5.280417      0.809277     2.00      5.000   \n",
       "New_price          1006.0     22.779692     27.759344     3.91      7.885   \n",
       "Price              6019.0      9.479468     11.187917     0.44      3.500   \n",
       "\n",
       "                        50%         75%         max  \n",
       "Year                2014.00   2016.0000     2019.00  \n",
       "Kilometers_Driven  53416.00  73000.0000  6500000.00  \n",
       "Mileage               18.16     21.1000       33.54  \n",
       "Engine              1493.00   1968.0000     5998.00  \n",
       "Power                 94.00    138.1000      616.00  \n",
       "Seats                  5.00      5.0000       10.00  \n",
       "New_price             11.57     26.0425      375.00  \n",
       "Price                  5.64      9.9500      160.00  "
      ]
     },
     "execution_count": 8,
     "metadata": {},
     "output_type": "execute_result"
    }
   ],
   "source": [
    "data.describe().T"
   ]
  },
  {
   "cell_type": "markdown",
   "id": "f55ba793",
   "metadata": {},
   "source": [
    "**Observations and Insights:**\n",
    "- The Year seems to be consistently within 1996-2019, with the average manufacturing year of cars in the dataset being ~2013.\n",
    "- Kilometers_Driven has a wide range, with minimum being 171 and the max being 6,500,000. However, the mean and median are rather close together, indicating the data is mostly evenly distributed. The max value could potentially be an outlier, however.\n",
    "- Mileage has a lower range, with a min of 0 and max of about 34. However, it seems to be evenly distributed as mean and median both fall around 18.1\n",
    "- Average number of Seats is around 5, although there exists cars in the dataset with 2 and 10 seats.\n",
    "- New_price and Price's data seem to be widely spread, but this may be due to the low number of data, especially for New_price."
   ]
  },
  {
   "cell_type": "code",
   "execution_count": 9,
   "id": "ad31cbda",
   "metadata": {},
   "outputs": [
    {
     "data": {
      "text/html": [
       "<div>\n",
       "<style scoped>\n",
       "    .dataframe tbody tr th:only-of-type {\n",
       "        vertical-align: middle;\n",
       "    }\n",
       "\n",
       "    .dataframe tbody tr th {\n",
       "        vertical-align: top;\n",
       "    }\n",
       "\n",
       "    .dataframe thead th {\n",
       "        text-align: right;\n",
       "    }\n",
       "</style>\n",
       "<table border=\"1\" class=\"dataframe\">\n",
       "  <thead>\n",
       "    <tr style=\"text-align: right;\">\n",
       "      <th></th>\n",
       "      <th>count</th>\n",
       "      <th>unique</th>\n",
       "      <th>top</th>\n",
       "      <th>freq</th>\n",
       "    </tr>\n",
       "  </thead>\n",
       "  <tbody>\n",
       "    <tr>\n",
       "      <th>Name</th>\n",
       "      <td>7253</td>\n",
       "      <td>2041</td>\n",
       "      <td>Mahindra XUV500 W8 2WD</td>\n",
       "      <td>55</td>\n",
       "    </tr>\n",
       "    <tr>\n",
       "      <th>Location</th>\n",
       "      <td>7253</td>\n",
       "      <td>11</td>\n",
       "      <td>Mumbai</td>\n",
       "      <td>949</td>\n",
       "    </tr>\n",
       "    <tr>\n",
       "      <th>Fuel_Type</th>\n",
       "      <td>7253</td>\n",
       "      <td>5</td>\n",
       "      <td>Diesel</td>\n",
       "      <td>3852</td>\n",
       "    </tr>\n",
       "    <tr>\n",
       "      <th>Transmission</th>\n",
       "      <td>7253</td>\n",
       "      <td>2</td>\n",
       "      <td>Manual</td>\n",
       "      <td>5204</td>\n",
       "    </tr>\n",
       "    <tr>\n",
       "      <th>Owner_Type</th>\n",
       "      <td>7253</td>\n",
       "      <td>4</td>\n",
       "      <td>First</td>\n",
       "      <td>5952</td>\n",
       "    </tr>\n",
       "  </tbody>\n",
       "</table>\n",
       "</div>"
      ],
      "text/plain": [
       "             count unique                     top  freq\n",
       "Name          7253   2041  Mahindra XUV500 W8 2WD    55\n",
       "Location      7253     11                  Mumbai   949\n",
       "Fuel_Type     7253      5                  Diesel  3852\n",
       "Transmission  7253      2                  Manual  5204\n",
       "Owner_Type    7253      4                   First  5952"
      ]
     },
     "execution_count": 9,
     "metadata": {},
     "output_type": "execute_result"
    }
   ],
   "source": [
    "# Explore basic summary statistics of categorical variables\n",
    "data.describe(include = ['object']).T"
   ]
  },
  {
   "cell_type": "markdown",
   "id": "3b95c7be",
   "metadata": {},
   "source": [
    "**Number of unique observations in each category**"
   ]
  },
  {
   "cell_type": "code",
   "execution_count": 10,
   "id": "315622e8",
   "metadata": {},
   "outputs": [
    {
     "name": "stdout",
     "output_type": "stream",
     "text": [
      "For column: Name\n",
      "['Maruti Wagon R LXI CNG' 'Hyundai Creta 1.6 CRDi SX Option'\n",
      " 'Honda Jazz V' ... 'Ford EcoSport 1.5 Petrol Ambiente'\n",
      " 'Jeep Compass 1.4 Sport' 'Hyundai Elite i20 Magna Plus']\n",
      "--------------------------------------------------\n",
      "For column: Location\n",
      "['Mumbai' 'Pune' 'Chennai' 'Coimbatore' 'Hyderabad' 'Jaipur' 'Kochi'\n",
      " 'Kolkata' 'Delhi' 'Bangalore' 'Ahmedabad']\n",
      "--------------------------------------------------\n",
      "For column: Fuel_Type\n",
      "['CNG' 'Diesel' 'Petrol' 'LPG' 'Electric']\n",
      "--------------------------------------------------\n",
      "For column: Transmission\n",
      "['Manual' 'Automatic']\n",
      "--------------------------------------------------\n",
      "For column: Owner_Type\n",
      "['First' 'Second' 'Fourth & Above' 'Third']\n",
      "--------------------------------------------------\n"
     ]
    }
   ],
   "source": [
    "cat_cols = data.select_dtypes(include = ['object']).columns\n",
    "\n",
    "for column in cat_cols:\n",
    "    \n",
    "    print(\"For column:\", column)\n",
    "    \n",
    "    print(data[column].unique())\n",
    "    \n",
    "    print('-'*50)"
   ]
  },
  {
   "cell_type": "markdown",
   "id": "52aef01d",
   "metadata": {},
   "source": [
    "#### **Observations and Insights:**\n",
    "- There are 2041 different brand and models of cars, with the most common being the Mahindra XUV500 W8 2WD at 55 cars.\n",
    "- There are 5 fuel types, the most common being Diesel which makes up over half the data.\n",
    "- There are only two types of transmissions, with the majority of cars being Manual.\n",
    "- Most cars have only had one owner, though there exist cars that have been owned by more than four people."
   ]
  },
  {
   "cell_type": "markdown",
   "id": "364fb613",
   "metadata": {},
   "source": [
    "**Thoughts:**\n",
    "- The column for kilometers_driven seems to have some extreme values. That could warrant further investigation.\n",
    "- Mileage has a minimum value of zero, which is questionable."
   ]
  },
  {
   "cell_type": "code",
   "execution_count": 11,
   "id": "66f38adb",
   "metadata": {},
   "outputs": [
    {
     "data": {
      "text/html": [
       "<div>\n",
       "<style scoped>\n",
       "    .dataframe tbody tr th:only-of-type {\n",
       "        vertical-align: middle;\n",
       "    }\n",
       "\n",
       "    .dataframe tbody tr th {\n",
       "        vertical-align: top;\n",
       "    }\n",
       "\n",
       "    .dataframe thead th {\n",
       "        text-align: right;\n",
       "    }\n",
       "</style>\n",
       "<table border=\"1\" class=\"dataframe\">\n",
       "  <thead>\n",
       "    <tr style=\"text-align: right;\">\n",
       "      <th></th>\n",
       "      <th>Name</th>\n",
       "      <th>Location</th>\n",
       "      <th>Year</th>\n",
       "      <th>Kilometers_Driven</th>\n",
       "      <th>Fuel_Type</th>\n",
       "      <th>Transmission</th>\n",
       "      <th>Owner_Type</th>\n",
       "      <th>Mileage</th>\n",
       "      <th>Engine</th>\n",
       "      <th>Power</th>\n",
       "      <th>Seats</th>\n",
       "      <th>New_price</th>\n",
       "      <th>Price</th>\n",
       "    </tr>\n",
       "  </thead>\n",
       "  <tbody>\n",
       "    <tr>\n",
       "      <th>2328</th>\n",
       "      <td>BMW X5 xDrive 30d M Sport</td>\n",
       "      <td>Chennai</td>\n",
       "      <td>2017</td>\n",
       "      <td>6500000</td>\n",
       "      <td>Diesel</td>\n",
       "      <td>Automatic</td>\n",
       "      <td>First</td>\n",
       "      <td>15.97</td>\n",
       "      <td>2993.0</td>\n",
       "      <td>258.00</td>\n",
       "      <td>5.0</td>\n",
       "      <td>NaN</td>\n",
       "      <td>65.00</td>\n",
       "    </tr>\n",
       "    <tr>\n",
       "      <th>340</th>\n",
       "      <td>Skoda Octavia Ambition Plus 2.0 TDI AT</td>\n",
       "      <td>Kolkata</td>\n",
       "      <td>2013</td>\n",
       "      <td>775000</td>\n",
       "      <td>Diesel</td>\n",
       "      <td>Automatic</td>\n",
       "      <td>First</td>\n",
       "      <td>19.30</td>\n",
       "      <td>1968.0</td>\n",
       "      <td>141.00</td>\n",
       "      <td>5.0</td>\n",
       "      <td>NaN</td>\n",
       "      <td>7.50</td>\n",
       "    </tr>\n",
       "    <tr>\n",
       "      <th>1860</th>\n",
       "      <td>Volkswagen Vento Diesel Highline</td>\n",
       "      <td>Chennai</td>\n",
       "      <td>2013</td>\n",
       "      <td>720000</td>\n",
       "      <td>Diesel</td>\n",
       "      <td>Manual</td>\n",
       "      <td>First</td>\n",
       "      <td>20.54</td>\n",
       "      <td>1598.0</td>\n",
       "      <td>103.60</td>\n",
       "      <td>5.0</td>\n",
       "      <td>NaN</td>\n",
       "      <td>5.90</td>\n",
       "    </tr>\n",
       "    <tr>\n",
       "      <th>358</th>\n",
       "      <td>Hyundai i10 Magna 1.2</td>\n",
       "      <td>Chennai</td>\n",
       "      <td>2009</td>\n",
       "      <td>620000</td>\n",
       "      <td>Petrol</td>\n",
       "      <td>Manual</td>\n",
       "      <td>First</td>\n",
       "      <td>20.36</td>\n",
       "      <td>1197.0</td>\n",
       "      <td>78.90</td>\n",
       "      <td>5.0</td>\n",
       "      <td>NaN</td>\n",
       "      <td>2.70</td>\n",
       "    </tr>\n",
       "    <tr>\n",
       "      <th>2823</th>\n",
       "      <td>Volkswagen Jetta 2013-2015 2.0L TDI Highline AT</td>\n",
       "      <td>Chennai</td>\n",
       "      <td>2015</td>\n",
       "      <td>480000</td>\n",
       "      <td>Diesel</td>\n",
       "      <td>Automatic</td>\n",
       "      <td>First</td>\n",
       "      <td>16.96</td>\n",
       "      <td>1968.0</td>\n",
       "      <td>138.03</td>\n",
       "      <td>5.0</td>\n",
       "      <td>NaN</td>\n",
       "      <td>13.00</td>\n",
       "    </tr>\n",
       "    <tr>\n",
       "      <th>3092</th>\n",
       "      <td>Honda City i VTEC SV</td>\n",
       "      <td>Kolkata</td>\n",
       "      <td>2015</td>\n",
       "      <td>480000</td>\n",
       "      <td>Petrol</td>\n",
       "      <td>Manual</td>\n",
       "      <td>First</td>\n",
       "      <td>17.40</td>\n",
       "      <td>1497.0</td>\n",
       "      <td>117.30</td>\n",
       "      <td>5.0</td>\n",
       "      <td>NaN</td>\n",
       "      <td>5.00</td>\n",
       "    </tr>\n",
       "    <tr>\n",
       "      <th>4491</th>\n",
       "      <td>Hyundai i20 Magna Optional 1.2</td>\n",
       "      <td>Bangalore</td>\n",
       "      <td>2013</td>\n",
       "      <td>445000</td>\n",
       "      <td>Petrol</td>\n",
       "      <td>Manual</td>\n",
       "      <td>First</td>\n",
       "      <td>18.50</td>\n",
       "      <td>1197.0</td>\n",
       "      <td>82.90</td>\n",
       "      <td>5.0</td>\n",
       "      <td>NaN</td>\n",
       "      <td>4.45</td>\n",
       "    </tr>\n",
       "    <tr>\n",
       "      <th>6921</th>\n",
       "      <td>Maruti Swift Dzire Tour LDI</td>\n",
       "      <td>Jaipur</td>\n",
       "      <td>2012</td>\n",
       "      <td>350000</td>\n",
       "      <td>Diesel</td>\n",
       "      <td>Manual</td>\n",
       "      <td>First</td>\n",
       "      <td>23.40</td>\n",
       "      <td>1248.0</td>\n",
       "      <td>74.00</td>\n",
       "      <td>5.0</td>\n",
       "      <td>NaN</td>\n",
       "      <td>NaN</td>\n",
       "    </tr>\n",
       "    <tr>\n",
       "      <th>3649</th>\n",
       "      <td>Tata Indigo LS</td>\n",
       "      <td>Jaipur</td>\n",
       "      <td>2008</td>\n",
       "      <td>300000</td>\n",
       "      <td>Diesel</td>\n",
       "      <td>Manual</td>\n",
       "      <td>First</td>\n",
       "      <td>17.00</td>\n",
       "      <td>1405.0</td>\n",
       "      <td>70.00</td>\n",
       "      <td>5.0</td>\n",
       "      <td>NaN</td>\n",
       "      <td>1.00</td>\n",
       "    </tr>\n",
       "    <tr>\n",
       "      <th>1528</th>\n",
       "      <td>Toyota Innova 2.5 G (Diesel) 8 Seater BS IV</td>\n",
       "      <td>Hyderabad</td>\n",
       "      <td>2005</td>\n",
       "      <td>299322</td>\n",
       "      <td>Diesel</td>\n",
       "      <td>Manual</td>\n",
       "      <td>First</td>\n",
       "      <td>12.80</td>\n",
       "      <td>2494.0</td>\n",
       "      <td>102.00</td>\n",
       "      <td>8.0</td>\n",
       "      <td>NaN</td>\n",
       "      <td>4.00</td>\n",
       "    </tr>\n",
       "  </tbody>\n",
       "</table>\n",
       "</div>"
      ],
      "text/plain": [
       "                                                 Name   Location  Year  \\\n",
       "2328                        BMW X5 xDrive 30d M Sport    Chennai  2017   \n",
       "340            Skoda Octavia Ambition Plus 2.0 TDI AT    Kolkata  2013   \n",
       "1860                 Volkswagen Vento Diesel Highline    Chennai  2013   \n",
       "358                             Hyundai i10 Magna 1.2    Chennai  2009   \n",
       "2823  Volkswagen Jetta 2013-2015 2.0L TDI Highline AT    Chennai  2015   \n",
       "3092                             Honda City i VTEC SV    Kolkata  2015   \n",
       "4491                   Hyundai i20 Magna Optional 1.2  Bangalore  2013   \n",
       "6921                      Maruti Swift Dzire Tour LDI     Jaipur  2012   \n",
       "3649                                   Tata Indigo LS     Jaipur  2008   \n",
       "1528      Toyota Innova 2.5 G (Diesel) 8 Seater BS IV  Hyderabad  2005   \n",
       "\n",
       "      Kilometers_Driven Fuel_Type Transmission Owner_Type  Mileage  Engine  \\\n",
       "2328            6500000    Diesel    Automatic      First    15.97  2993.0   \n",
       "340              775000    Diesel    Automatic      First    19.30  1968.0   \n",
       "1860             720000    Diesel       Manual      First    20.54  1598.0   \n",
       "358              620000    Petrol       Manual      First    20.36  1197.0   \n",
       "2823             480000    Diesel    Automatic      First    16.96  1968.0   \n",
       "3092             480000    Petrol       Manual      First    17.40  1497.0   \n",
       "4491             445000    Petrol       Manual      First    18.50  1197.0   \n",
       "6921             350000    Diesel       Manual      First    23.40  1248.0   \n",
       "3649             300000    Diesel       Manual      First    17.00  1405.0   \n",
       "1528             299322    Diesel       Manual      First    12.80  2494.0   \n",
       "\n",
       "       Power  Seats  New_price  Price  \n",
       "2328  258.00    5.0        NaN  65.00  \n",
       "340   141.00    5.0        NaN   7.50  \n",
       "1860  103.60    5.0        NaN   5.90  \n",
       "358    78.90    5.0        NaN   2.70  \n",
       "2823  138.03    5.0        NaN  13.00  \n",
       "3092  117.30    5.0        NaN   5.00  \n",
       "4491   82.90    5.0        NaN   4.45  \n",
       "6921   74.00    5.0        NaN    NaN  \n",
       "3649   70.00    5.0        NaN   1.00  \n",
       "1528  102.00    8.0        NaN   4.00  "
      ]
     },
     "execution_count": 11,
     "metadata": {},
     "output_type": "execute_result"
    }
   ],
   "source": [
    "# Check Kilometers_Driven extreme values\n",
    "data.sort_values('Kilometers_Driven', ascending = False).head(10)"
   ]
  },
  {
   "cell_type": "markdown",
   "id": "f2c89098",
   "metadata": {},
   "source": [
    "#### **Observations and Insights:**\n",
    "- The car with the most km driven is a BMW X5 xDrive 30d M Sport. However, it seems to have been manufactured fairly recently, in 2017.\n",
    "- The km driven for the car is listed as 6500000 km, which is impossible for a car manufactured so recently.\n",
    "- It could potentially be an erroneous entry, and is a massive outlier if we leave it in. Thus, we will drop it"
   ]
  },
  {
   "cell_type": "code",
   "execution_count": 12,
   "id": "8f774135",
   "metadata": {},
   "outputs": [],
   "source": [
    "data.drop(2328, inplace = True)"
   ]
  },
  {
   "cell_type": "code",
   "execution_count": 13,
   "id": "92834d3c",
   "metadata": {},
   "outputs": [
    {
     "data": {
      "text/html": [
       "<div>\n",
       "<style scoped>\n",
       "    .dataframe tbody tr th:only-of-type {\n",
       "        vertical-align: middle;\n",
       "    }\n",
       "\n",
       "    .dataframe tbody tr th {\n",
       "        vertical-align: top;\n",
       "    }\n",
       "\n",
       "    .dataframe thead th {\n",
       "        text-align: right;\n",
       "    }\n",
       "</style>\n",
       "<table border=\"1\" class=\"dataframe\">\n",
       "  <thead>\n",
       "    <tr style=\"text-align: right;\">\n",
       "      <th></th>\n",
       "      <th>Name</th>\n",
       "      <th>Location</th>\n",
       "      <th>Year</th>\n",
       "      <th>Kilometers_Driven</th>\n",
       "      <th>Fuel_Type</th>\n",
       "      <th>Transmission</th>\n",
       "      <th>Owner_Type</th>\n",
       "      <th>Mileage</th>\n",
       "      <th>Engine</th>\n",
       "      <th>Power</th>\n",
       "      <th>Seats</th>\n",
       "      <th>New_price</th>\n",
       "      <th>Price</th>\n",
       "    </tr>\n",
       "  </thead>\n",
       "  <tbody>\n",
       "    <tr>\n",
       "      <th>2597</th>\n",
       "      <td>Hyundai Santro Xing XP</td>\n",
       "      <td>Pune</td>\n",
       "      <td>2007</td>\n",
       "      <td>70000</td>\n",
       "      <td>Petrol</td>\n",
       "      <td>Manual</td>\n",
       "      <td>First</td>\n",
       "      <td>0.0</td>\n",
       "      <td>1086.0</td>\n",
       "      <td>NaN</td>\n",
       "      <td>5.0</td>\n",
       "      <td>NaN</td>\n",
       "      <td>1.12</td>\n",
       "    </tr>\n",
       "    <tr>\n",
       "      <th>2343</th>\n",
       "      <td>Hyundai Santro AT</td>\n",
       "      <td>Hyderabad</td>\n",
       "      <td>2006</td>\n",
       "      <td>74483</td>\n",
       "      <td>Petrol</td>\n",
       "      <td>Automatic</td>\n",
       "      <td>First</td>\n",
       "      <td>0.0</td>\n",
       "      <td>999.0</td>\n",
       "      <td>NaN</td>\n",
       "      <td>5.0</td>\n",
       "      <td>NaN</td>\n",
       "      <td>2.30</td>\n",
       "    </tr>\n",
       "    <tr>\n",
       "      <th>5270</th>\n",
       "      <td>Honda City 1.5 GXI</td>\n",
       "      <td>Bangalore</td>\n",
       "      <td>2002</td>\n",
       "      <td>53000</td>\n",
       "      <td>Petrol</td>\n",
       "      <td>Manual</td>\n",
       "      <td>Second</td>\n",
       "      <td>0.0</td>\n",
       "      <td>NaN</td>\n",
       "      <td>NaN</td>\n",
       "      <td>NaN</td>\n",
       "      <td>NaN</td>\n",
       "      <td>1.85</td>\n",
       "    </tr>\n",
       "    <tr>\n",
       "      <th>424</th>\n",
       "      <td>Volkswagen Jetta 2007-2011 1.9 L TDI</td>\n",
       "      <td>Hyderabad</td>\n",
       "      <td>2010</td>\n",
       "      <td>42021</td>\n",
       "      <td>Diesel</td>\n",
       "      <td>Manual</td>\n",
       "      <td>First</td>\n",
       "      <td>0.0</td>\n",
       "      <td>1968.0</td>\n",
       "      <td>NaN</td>\n",
       "      <td>5.0</td>\n",
       "      <td>NaN</td>\n",
       "      <td>5.45</td>\n",
       "    </tr>\n",
       "    <tr>\n",
       "      <th>6857</th>\n",
       "      <td>Land Rover Freelander 2 TD4 SE</td>\n",
       "      <td>Mumbai</td>\n",
       "      <td>2011</td>\n",
       "      <td>87000</td>\n",
       "      <td>Diesel</td>\n",
       "      <td>Automatic</td>\n",
       "      <td>First</td>\n",
       "      <td>0.0</td>\n",
       "      <td>2179.0</td>\n",
       "      <td>115.0</td>\n",
       "      <td>5.0</td>\n",
       "      <td>NaN</td>\n",
       "      <td>NaN</td>\n",
       "    </tr>\n",
       "    <tr>\n",
       "      <th>443</th>\n",
       "      <td>Hyundai Santro GLS I - Euro I</td>\n",
       "      <td>Coimbatore</td>\n",
       "      <td>2012</td>\n",
       "      <td>50243</td>\n",
       "      <td>Petrol</td>\n",
       "      <td>Manual</td>\n",
       "      <td>First</td>\n",
       "      <td>0.0</td>\n",
       "      <td>1086.0</td>\n",
       "      <td>NaN</td>\n",
       "      <td>5.0</td>\n",
       "      <td>NaN</td>\n",
       "      <td>3.35</td>\n",
       "    </tr>\n",
       "    <tr>\n",
       "      <th>5119</th>\n",
       "      <td>Hyundai Santro Xing XP</td>\n",
       "      <td>Kolkata</td>\n",
       "      <td>2008</td>\n",
       "      <td>45500</td>\n",
       "      <td>Petrol</td>\n",
       "      <td>Manual</td>\n",
       "      <td>Second</td>\n",
       "      <td>0.0</td>\n",
       "      <td>1086.0</td>\n",
       "      <td>NaN</td>\n",
       "      <td>5.0</td>\n",
       "      <td>NaN</td>\n",
       "      <td>1.17</td>\n",
       "    </tr>\n",
       "    <tr>\n",
       "      <th>5022</th>\n",
       "      <td>Land Rover Freelander 2 TD4 SE</td>\n",
       "      <td>Hyderabad</td>\n",
       "      <td>2013</td>\n",
       "      <td>46000</td>\n",
       "      <td>Diesel</td>\n",
       "      <td>Automatic</td>\n",
       "      <td>Second</td>\n",
       "      <td>0.0</td>\n",
       "      <td>2179.0</td>\n",
       "      <td>115.0</td>\n",
       "      <td>5.0</td>\n",
       "      <td>NaN</td>\n",
       "      <td>26.00</td>\n",
       "    </tr>\n",
       "    <tr>\n",
       "      <th>5016</th>\n",
       "      <td>Land Rover Freelander 2 TD4 HSE</td>\n",
       "      <td>Delhi</td>\n",
       "      <td>2013</td>\n",
       "      <td>72000</td>\n",
       "      <td>Diesel</td>\n",
       "      <td>Automatic</td>\n",
       "      <td>First</td>\n",
       "      <td>0.0</td>\n",
       "      <td>2179.0</td>\n",
       "      <td>115.0</td>\n",
       "      <td>5.0</td>\n",
       "      <td>NaN</td>\n",
       "      <td>15.50</td>\n",
       "    </tr>\n",
       "    <tr>\n",
       "      <th>2542</th>\n",
       "      <td>Hyundai Santro GLS II - Euro II</td>\n",
       "      <td>Bangalore</td>\n",
       "      <td>2011</td>\n",
       "      <td>65000</td>\n",
       "      <td>Petrol</td>\n",
       "      <td>Manual</td>\n",
       "      <td>Second</td>\n",
       "      <td>0.0</td>\n",
       "      <td>NaN</td>\n",
       "      <td>NaN</td>\n",
       "      <td>NaN</td>\n",
       "      <td>NaN</td>\n",
       "      <td>3.15</td>\n",
       "    </tr>\n",
       "  </tbody>\n",
       "</table>\n",
       "</div>"
      ],
      "text/plain": [
       "                                      Name    Location  Year  \\\n",
       "2597                Hyundai Santro Xing XP        Pune  2007   \n",
       "2343                     Hyundai Santro AT   Hyderabad  2006   \n",
       "5270                    Honda City 1.5 GXI   Bangalore  2002   \n",
       "424   Volkswagen Jetta 2007-2011 1.9 L TDI   Hyderabad  2010   \n",
       "6857        Land Rover Freelander 2 TD4 SE      Mumbai  2011   \n",
       "443          Hyundai Santro GLS I - Euro I  Coimbatore  2012   \n",
       "5119                Hyundai Santro Xing XP     Kolkata  2008   \n",
       "5022        Land Rover Freelander 2 TD4 SE   Hyderabad  2013   \n",
       "5016       Land Rover Freelander 2 TD4 HSE       Delhi  2013   \n",
       "2542       Hyundai Santro GLS II - Euro II   Bangalore  2011   \n",
       "\n",
       "      Kilometers_Driven Fuel_Type Transmission Owner_Type  Mileage  Engine  \\\n",
       "2597              70000    Petrol       Manual      First      0.0  1086.0   \n",
       "2343              74483    Petrol    Automatic      First      0.0   999.0   \n",
       "5270              53000    Petrol       Manual     Second      0.0     NaN   \n",
       "424               42021    Diesel       Manual      First      0.0  1968.0   \n",
       "6857              87000    Diesel    Automatic      First      0.0  2179.0   \n",
       "443               50243    Petrol       Manual      First      0.0  1086.0   \n",
       "5119              45500    Petrol       Manual     Second      0.0  1086.0   \n",
       "5022              46000    Diesel    Automatic     Second      0.0  2179.0   \n",
       "5016              72000    Diesel    Automatic      First      0.0  2179.0   \n",
       "2542              65000    Petrol       Manual     Second      0.0     NaN   \n",
       "\n",
       "      Power  Seats  New_price  Price  \n",
       "2597    NaN    5.0        NaN   1.12  \n",
       "2343    NaN    5.0        NaN   2.30  \n",
       "5270    NaN    NaN        NaN   1.85  \n",
       "424     NaN    5.0        NaN   5.45  \n",
       "6857  115.0    5.0        NaN    NaN  \n",
       "443     NaN    5.0        NaN   3.35  \n",
       "5119    NaN    5.0        NaN   1.17  \n",
       "5022  115.0    5.0        NaN  26.00  \n",
       "5016  115.0    5.0        NaN  15.50  \n",
       "2542    NaN    NaN        NaN   3.15  "
      ]
     },
     "execution_count": 13,
     "metadata": {},
     "output_type": "execute_result"
    }
   ],
   "source": [
    "# Check Mileage extreme values\n",
    "data.sort_values('Mileage').head(10)"
   ]
  },
  {
   "cell_type": "markdown",
   "id": "f40e6f47",
   "metadata": {},
   "source": [
    "#### **Observations**\n",
    "* Mileage of cars can not be 0, so we should treat 0's as missing values. We will do it in the Feature Engineering part."
   ]
  },
  {
   "cell_type": "markdown",
   "id": "3e8f4a7f",
   "metadata": {},
   "source": [
    "## **Univariate Analysis**\n",
    "In this section, we will look at each variable in the data set independently. We will explore the spread of values, such as their range and measures of central tendency."
   ]
  },
  {
   "cell_type": "markdown",
   "id": "eb28108a",
   "metadata": {},
   "source": [
    "### **1. Numerical Data**"
   ]
  },
  {
   "cell_type": "code",
   "execution_count": 14,
   "id": "756bae7c",
   "metadata": {},
   "outputs": [],
   "source": [
    "# function that displays boxplot and histogram for input feature of as an array\n",
    "\n",
    "def histogram_boxplot(feature, figsize = (15, 10), bins = None):\n",
    "    \n",
    "    f2, (ax_box2, ax_hist2) = plt.subplots(nrows = 2, # Number of rows of the subplot grid = 2\n",
    "                                           sharex = True, # X-axis will be shared among all subplots\n",
    "                                           gridspec_kw = {\"height_ratios\": (.25, .75)}, \n",
    "                                           figsize = figsize \n",
    "                                           ) # Creating the 2 subplots\n",
    "    \n",
    "    sns.boxplot(feature, ax = ax_box2, showmeans = True, color = 'violet') # Boxplot will be created and a symbol will indicate the mean value of the column\n",
    "    \n",
    "    sns.distplot(feature, kde = F, ax = ax_hist2, bins = bins, palette = \"winter\") if bins else sns.distplot(feature, kde = False, ax = ax_hist2) # For histogram\n",
    "    \n",
    "    ax_hist2.axvline(np.mean(feature), color = 'green', linestyle = '--') # Add mean to the histogram\n",
    "    \n",
    "    ax_hist2.axvline(np.median(feature), color = 'black', linestyle = '-') # Add median to the histogram"
   ]
  },
  {
   "cell_type": "code",
   "execution_count": 15,
   "id": "e0351e87",
   "metadata": {},
   "outputs": [
    {
     "data": {
      "image/png": "[encoded data removed]",
      "text/plain": [
       "<Figure size 1080x720 with 2 Axes>"
      ]
     },
     "metadata": {
      "needs_background": "light"
     },
     "output_type": "display_data"
    }
   ],
   "source": [
    "# Plot histogram and box-plot for 'Kilometers_Driven'\n",
    "histogram_boxplot(data['Kilometers_Driven'])"
   ]
  },
  {
   "cell_type": "markdown",
   "id": "d4243e40",
   "metadata": {},
   "source": [
    "**Observation:** Kilometers_Driven appears to be right-skewed. To reduce skewness, we perform a log transformation"
   ]
  },
  {
   "cell_type": "code",
   "execution_count": 16,
   "id": "6c3e4a5c",
   "metadata": {},
   "outputs": [
    {
     "data": {
      "image/png": "[encoded data removed]",
      "text/plain": [
       "<Figure size 432x288 with 1 Axes>"
      ]
     },
     "metadata": {
      "needs_background": "light"
     },
     "output_type": "display_data"
    }
   ],
   "source": [
    "# Log transformation of the feature 'Kilometers_Driven'\n",
    "sns.distplot(np.log(data[\"Kilometers_Driven\"]), axlabel = \"Log(Kilometers_Driven)\");"
   ]
  },
  {
   "cell_type": "markdown",
   "id": "fb02651a",
   "metadata": {},
   "source": [
    "**Observations:**\n",
    "- Log of Kilometers_Driven seems more normally-distributed, with a peak of around 11. However, it has become a little more left-skewed.\n",
    "- It is still preferred over Kilometers_Driven, as being heavily skewed can affect the prediction model due to its outliers.\n",
    "- The model should be trained on data that follows the Gaussian Distribution as closely as possible."
   ]
  },
  {
   "cell_type": "code",
   "execution_count": 17,
   "id": "f57043bf",
   "metadata": {},
   "outputs": [],
   "source": [
    "# Add the reuslting log transformation as a feature in the data\n",
    "data[\"kilometers_driven_log\"] = np.log(data[\"Kilometers_Driven\"])"
   ]
  },
  {
   "cell_type": "code",
   "execution_count": 18,
   "id": "bd6ec955",
   "metadata": {},
   "outputs": [
    {
     "data": {
      "image/png": "[encoded data removed]",
      "text/plain": [
       "<Figure size 1080x720 with 2 Axes>"
      ]
     },
     "metadata": {
      "needs_background": "light"
     },
     "output_type": "display_data"
    }
   ],
   "source": [
    "# Plot histogram and box-plot for 'Price'\n",
    "histogram_boxplot(data[\"Price\"])"
   ]
  },
  {
   "cell_type": "markdown",
   "id": "b6a2c851",
   "metadata": {},
   "source": [
    "Since Price is also skewed, we will do the same with the column as we did with Kilometers_Driven"
   ]
  },
  {
   "cell_type": "code",
   "execution_count": 19,
   "id": "4211ae6f",
   "metadata": {},
   "outputs": [
    {
     "data": {
      "text/plain": [
       "<AxesSubplot:xlabel='Log(Price)', ylabel='Density'>"
      ]
     },
     "execution_count": 19,
     "metadata": {},
     "output_type": "execute_result"
    },
    {
     "data": {
      "image/png": "[encoded data removed]",
      "text/plain": [
       "<Figure size 432x288 with 1 Axes>"
      ]
     },
     "metadata": {
      "needs_background": "light"
     },
     "output_type": "display_data"
    }
   ],
   "source": [
    "# Log transformation of the feature 'Price'\n",
    "sns.distplot(np.log(data[\"Price\"]), axlabel = \"Log(Price)\")"
   ]
  },
  {
   "cell_type": "code",
   "execution_count": 20,
   "id": "28f3b0ad",
   "metadata": {},
   "outputs": [],
   "source": [
    "data[\"price_log\"] = np.log(data[\"Price\"])"
   ]
  },
  {
   "cell_type": "markdown",
   "id": "e7453901",
   "metadata": {},
   "source": [
    "We will now look at the rest of the numerical features"
   ]
  },
  {
   "cell_type": "code",
   "execution_count": 21,
   "id": "fc58dd5a",
   "metadata": {},
   "outputs": [
    {
     "data": {
      "image/png": "[encoded data removed]",
      "text/plain": [
       "<Figure size 1080x720 with 2 Axes>"
      ]
     },
     "metadata": {
      "needs_background": "light"
     },
     "output_type": "display_data"
    }
   ],
   "source": [
    "histogram_boxplot(data[\"Year\"])"
   ]
  },
  {
   "cell_type": "code",
   "execution_count": 22,
   "id": "4272934b",
   "metadata": {},
   "outputs": [
    {
     "data": {
      "image/png": "[encoded data removed]",
      "text/plain": [
       "<Figure size 1080x720 with 2 Axes>"
      ]
     },
     "metadata": {
      "needs_background": "light"
     },
     "output_type": "display_data"
    }
   ],
   "source": [
    "histogram_boxplot(data[\"Mileage\"])"
   ]
  },
  {
   "cell_type": "code",
   "execution_count": 23,
   "id": "d153d5be",
   "metadata": {},
   "outputs": [
    {
     "data": {
      "image/png": "[encoded data removed]",
      "text/plain": [
       "<Figure size 1080x720 with 2 Axes>"
      ]
     },
     "metadata": {
      "needs_background": "light"
     },
     "output_type": "display_data"
    }
   ],
   "source": [
    "histogram_boxplot(data[\"Engine\"])"
   ]
  },
  {
   "cell_type": "code",
   "execution_count": 24,
   "id": "6217dcef",
   "metadata": {},
   "outputs": [
    {
     "data": {
      "image/png": "[encoded data removed]",
      "text/plain": [
       "<Figure size 1080x720 with 2 Axes>"
      ]
     },
     "metadata": {
      "needs_background": "light"
     },
     "output_type": "display_data"
    }
   ],
   "source": [
    "histogram_boxplot(data[\"Power\"])"
   ]
  },
  {
   "cell_type": "code",
   "execution_count": 25,
   "id": "5afc6a87",
   "metadata": {},
   "outputs": [
    {
     "data": {
      "image/png": "[encoded data removed]",
      "text/plain": [
       "<Figure size 1080x720 with 2 Axes>"
      ]
     },
     "metadata": {
      "needs_background": "light"
     },
     "output_type": "display_data"
    }
   ],
   "source": [
    "histogram_boxplot(data[\"Seats\"])"
   ]
  },
  {
   "cell_type": "code",
   "execution_count": 26,
   "id": "18a26426",
   "metadata": {},
   "outputs": [
    {
     "data": {
      "image/png": "[encoded data removed]",
      "text/plain": [
       "<Figure size 1080x720 with 2 Axes>"
      ]
     },
     "metadata": {
      "needs_background": "light"
     },
     "output_type": "display_data"
    }
   ],
   "source": [
    "histogram_boxplot(data[\"New_price\"])"
   ]
  },
  {
   "cell_type": "markdown",
   "id": "4e7e10e4",
   "metadata": {},
   "source": [
    "**Observations for all the plots:**\n",
    "- Year seems to be left-skewed.\n",
    "- Mileage is rather normally-distributed, peaking at around 18.\n",
    "- Engine is right-skewed, along with Power.\n",
    "- Data for seats peaks around 5, with little data for the other number of seats.\n",
    "- New_price is heavily left-skewed. The data matches closely with Price, which makes sense."
   ]
  },
  {
   "cell_type": "markdown",
   "id": "43f8a462",
   "metadata": {},
   "source": [
    "### **2. Categorical Data**"
   ]
  },
  {
   "cell_type": "code",
   "execution_count": 27,
   "id": "f141e367",
   "metadata": {},
   "outputs": [],
   "source": [
    "# function given by Great Learning\n",
    "\n",
    "def perc_on_bar(z):\n",
    "    '''\n",
    "    plot\n",
    "    feature: categorical feature\n",
    "    the function won't work if a column is passed in hue parameter\n",
    "    '''\n",
    "\n",
    "    total = len(data[z]) # Length of the column\n",
    "    \n",
    "    plt.figure(figsize = (15, 5))\n",
    "    \n",
    "    ax = sns.countplot(data[z], palette = 'Paired', order = data[z].value_counts().index)\n",
    "    \n",
    "    for p in ax.patches:\n",
    "        \n",
    "        percentage = '{:.1f}%'.format(100 * p.get_height() / total) # Percentage of each class of the category\n",
    "        \n",
    "        x = p.get_x() + p.get_width() / 2 - 0.05 # Width of the plot\n",
    "        \n",
    "        y = p.get_y() + p.get_height()           # Hieght of the plot\n",
    "        \n",
    "        ax.annotate(percentage, (x, y), size = 12) # Annotate the percantage \n",
    "    \n",
    "    plt.show() # Show the plot"
   ]
  },
  {
   "cell_type": "markdown",
   "id": "009ccc8d",
   "metadata": {},
   "source": [
    "Explore different features with bar plots"
   ]
  },
  {
   "cell_type": "code",
   "execution_count": 28,
   "id": "f4236cc7",
   "metadata": {},
   "outputs": [
    {
     "data": {
      "image/png": "[encoded data removed]",
      "text/plain": [
       "<Figure size 1080x360 with 1 Axes>"
      ]
     },
     "metadata": {
      "needs_background": "light"
     },
     "output_type": "display_data"
    }
   ],
   "source": [
    "# Bar Plot for 'Location'\n",
    "perc_on_bar('Location')"
   ]
  },
  {
   "cell_type": "code",
   "execution_count": 29,
   "id": "de46398a",
   "metadata": {},
   "outputs": [
    {
     "data": {
      "image/png": "[encoded data removed]",
      "text/plain": [
       "<Figure size 1080x360 with 1 Axes>"
      ]
     },
     "metadata": {
      "needs_background": "light"
     },
     "output_type": "display_data"
    }
   ],
   "source": [
    "perc_on_bar('Year')"
   ]
  },
  {
   "cell_type": "code",
   "execution_count": 30,
   "id": "62d97c46",
   "metadata": {},
   "outputs": [
    {
     "data": {
      "image/png": "[encoded data removed]",
      "text/plain": [
       "<Figure size 1080x360 with 1 Axes>"
      ]
     },
     "metadata": {
      "needs_background": "light"
     },
     "output_type": "display_data"
    }
   ],
   "source": [
    "perc_on_bar('Fuel_Type')"
   ]
  },
  {
   "cell_type": "code",
   "execution_count": 31,
   "id": "d1a86d45",
   "metadata": {},
   "outputs": [
    {
     "data": {
      "image/png": "[encoded data removed]",
      "text/plain": [
       "<Figure size 1080x360 with 1 Axes>"
      ]
     },
     "metadata": {
      "needs_background": "light"
     },
     "output_type": "display_data"
    }
   ],
   "source": [
    "perc_on_bar('Transmission')"
   ]
  },
  {
   "cell_type": "code",
   "execution_count": 32,
   "id": "68eb8dd5",
   "metadata": {},
   "outputs": [
    {
     "data": {
      "image/png": "[encoded data removed]",
      "text/plain": [
       "<Figure size 1080x360 with 1 Axes>"
      ]
     },
     "metadata": {
      "needs_background": "light"
     },
     "output_type": "display_data"
    }
   ],
   "source": [
    "perc_on_bar('Owner_Type')"
   ]
  },
  {
   "cell_type": "markdown",
   "id": "523d04f4",
   "metadata": {},
   "source": [
    "**Observations and Insights from all plots:**\n",
    "- The most common place where cars are being sold is Mumbai.\n",
    "- Overall, newer cars seem to be more common than older cars, with count dropping the older the car. Some exceptions include 2019 and 2018, though that could be attributed to the car being so new there's not as much data for it.\n",
    "- The most common fuel type is Diesel, followed closely by Petrol. Other fuel types are rarely as common.\n",
    "- The most common type of transmission is manual, over half of the data.\n",
    "- Most cars have only had one owner, with barely any over four owners."
   ]
  },
  {
   "cell_type": "markdown",
   "id": "e396908f",
   "metadata": {},
   "source": [
    "## **Bivariate Analysis**"
   ]
  },
  {
   "cell_type": "markdown",
   "id": "a1d73481",
   "metadata": {},
   "source": [
    "### **1. Scatter plot**\n",
    "Here, we explore the relationship between pairs of different variables"
   ]
  },
  {
   "cell_type": "code",
   "execution_count": 33,
   "id": "e896b51c",
   "metadata": {},
   "outputs": [
    {
     "data": {
      "text/plain": [
       "<AxesSubplot:xlabel='price_log'>"
      ]
     },
     "execution_count": 33,
     "metadata": {},
     "output_type": "execute_result"
    },
    {
     "data": {
      "image/png": "[encoded data removed]",
      "text/plain": [
       "<Figure size 432x288 with 1 Axes>"
      ]
     },
     "metadata": {
      "needs_background": "light"
     },
     "output_type": "display_data"
    }
   ],
   "source": [
    "data.plot(x = 'price_log', y = 'Year', style = 'o')"
   ]
  },
  {
   "cell_type": "code",
   "execution_count": 34,
   "id": "116385af",
   "metadata": {},
   "outputs": [
    {
     "data": {
      "text/plain": [
       "<AxesSubplot:xlabel='price_log'>"
      ]
     },
     "execution_count": 34,
     "metadata": {},
     "output_type": "execute_result"
    },
    {
     "data": {
      "image/png": "[encoded data removed]",
      "text/plain": [
       "<Figure size 432x288 with 1 Axes>"
      ]
     },
     "metadata": {
      "needs_background": "light"
     },
     "output_type": "display_data"
    }
   ],
   "source": [
    "data.plot(x = 'price_log', y = 'kilometers_driven_log', style = 'o')"
   ]
  },
  {
   "cell_type": "code",
   "execution_count": 35,
   "id": "c4ee6654",
   "metadata": {},
   "outputs": [
    {
     "data": {
      "text/plain": [
       "<AxesSubplot:xlabel='price_log'>"
      ]
     },
     "execution_count": 35,
     "metadata": {},
     "output_type": "execute_result"
    },
    {
     "data": {
      "image/png": "[encoded data removed]",
      "text/plain": [
       "<Figure size 432x288 with 1 Axes>"
      ]
     },
     "metadata": {
      "needs_background": "light"
     },
     "output_type": "display_data"
    }
   ],
   "source": [
    "data.plot(x = 'price_log', y = 'Mileage', style = 'o')"
   ]
  },
  {
   "cell_type": "code",
   "execution_count": 36,
   "id": "b969e54a",
   "metadata": {},
   "outputs": [
    {
     "data": {
      "text/plain": [
       "<AxesSubplot:xlabel='price_log'>"
      ]
     },
     "execution_count": 36,
     "metadata": {},
     "output_type": "execute_result"
    },
    {
     "data": {
      "image/png": "[encoded data removed]",
      "text/plain": [
       "<Figure size 432x288 with 1 Axes>"
      ]
     },
     "metadata": {
      "needs_background": "light"
     },
     "output_type": "display_data"
    }
   ],
   "source": [
    "data.plot(x = 'price_log', y = 'Engine', style = 'o')"
   ]
  },
  {
   "cell_type": "code",
   "execution_count": 37,
   "id": "d3f80838",
   "metadata": {},
   "outputs": [
    {
     "data": {
      "text/plain": [
       "<AxesSubplot:xlabel='price_log'>"
      ]
     },
     "execution_count": 37,
     "metadata": {},
     "output_type": "execute_result"
    },
    {
     "data": {
      "image/png": "[encoded data removed]",
      "text/plain": [
       "<Figure size 432x288 with 1 Axes>"
      ]
     },
     "metadata": {
      "needs_background": "light"
     },
     "output_type": "display_data"
    }
   ],
   "source": [
    "data.plot(x = 'price_log', y = 'Seats', style = 'o')"
   ]
  },
  {
   "cell_type": "code",
   "execution_count": 38,
   "id": "dc8aa799",
   "metadata": {},
   "outputs": [
    {
     "data": {
      "text/plain": [
       "<AxesSubplot:xlabel='price_log'>"
      ]
     },
     "execution_count": 38,
     "metadata": {},
     "output_type": "execute_result"
    },
    {
     "data": {
      "image/png": "[encoded data removed]",
      "text/plain": [
       "<Figure size 432x288 with 1 Axes>"
      ]
     },
     "metadata": {
      "needs_background": "light"
     },
     "output_type": "display_data"
    }
   ],
   "source": [
    "data.plot(x = 'price_log', y = 'New_price', style = 'o')"
   ]
  },
  {
   "cell_type": "markdown",
   "id": "ffbfe392",
   "metadata": {},
   "source": [
    "**Observations and Insights from all plots:**\n",
    "- Price_log increases the newer the car is. This is intuitive, as cars made more recently would be worth more.\n",
    "- There is no clear correlation between price_log and kilometers_driven_log or price_log and mileage.\n",
    "- The more powerful the engine, the more the car is worth.\n",
    "- Price_log and seats have no correlation. This makes sense, as the number of seats depends on the indidvidual buyer and what they use the car for.\n",
    "- The more the car was worth when it was new, the more the car is worth used."
   ]
  },
  {
   "cell_type": "markdown",
   "id": "a435790a",
   "metadata": {},
   "source": [
    "### **2. Heat map**"
   ]
  },
  {
   "cell_type": "code",
   "execution_count": 39,
   "id": "4398ac91",
   "metadata": {},
   "outputs": [
    {
     "data": {
      "image/png": "[encoded data removed]",
      "text/plain": [
       "<Figure size 864x504 with 2 Axes>"
      ]
     },
     "metadata": {
      "needs_background": "light"
     },
     "output_type": "display_data"
    }
   ],
   "source": [
    "# Plot the correlation between all features\n",
    "# We use the log transformation of 'Price' and 'Kilometers_Driven' instead of their original values\n",
    "plt.figure(figsize = (12, 7))\n",
    "\n",
    "sns.heatmap(data.drop(['Price', 'Kilometers_Driven'],axis = 1).corr(), annot = True, vmin = -1, vmax = 1)\n",
    "\n",
    "plt.show()"
   ]
  },
  {
   "cell_type": "markdown",
   "id": "bbe4197e",
   "metadata": {},
   "source": [
    "**Observations and Insights:**\n",
    "- Engine and Power have an extremely high correlation. This makes sense; a better engine leads to higher power output.\n",
    "- Power also has a high correlation with price_log and New_price. The more power the car, the more it is worth, even used.\n",
    "- We see a similar correlation between Engine and price_log and New_price. The better the engine, the more expensive the car.\n",
    "- Mileage has a negative correlation with Power and Engine. The lower the power of the engine, the less mileage a car has."
   ]
  },
  {
   "cell_type": "markdown",
   "id": "96f6ee46",
   "metadata": {},
   "source": [
    "### **3. Box plot**"
   ]
  },
  {
   "cell_type": "code",
   "execution_count": 40,
   "id": "61f0f633",
   "metadata": {},
   "outputs": [],
   "source": [
    "# function given by Great Learning\n",
    "# This function takes the categorical column as the input and returns the boxplots for the variable with respect to Price.\n",
    "def boxplot(z):\n",
    "    \n",
    "    plt.figure(figsize = (12, 5)) # Setting size of boxplot\n",
    "    \n",
    "    sns.boxplot(x = z, y = data['Price']) # Defining x and y\n",
    "    \n",
    "    plt.show()\n",
    "    \n",
    "    plt.figure(figsize = (12, 5))\n",
    "    \n",
    "    plt.title('Without Outliers')\n",
    "    \n",
    "    sns.boxplot(x = z, y = data['Price'], showfliers = False) # Turning off the outliers\n",
    "    \n",
    "    plt.show()"
   ]
  },
  {
   "cell_type": "markdown",
   "id": "db8b8e10",
   "metadata": {},
   "source": [
    "Perform bivariate analysis with categorical values"
   ]
  },
  {
   "cell_type": "code",
   "execution_count": 41,
   "id": "5246494a",
   "metadata": {},
   "outputs": [
    {
     "data": {
      "image/png": "[encoded data removed]",
      "text/plain": [
       "<Figure size 864x360 with 1 Axes>"
      ]
     },
     "metadata": {
      "needs_background": "light"
     },
     "output_type": "display_data"
    },
    {
     "data": {
      "image/png": "[encoded data removed]",
      "text/plain": [
       "<Figure size 864x360 with 1 Axes>"
      ]
     },
     "metadata": {
      "needs_background": "light"
     },
     "output_type": "display_data"
    }
   ],
   "source": [
    "boxplot(data['Location'])"
   ]
  },
  {
   "cell_type": "code",
   "execution_count": 42,
   "id": "be54e2f2",
   "metadata": {},
   "outputs": [
    {
     "data": {
      "image/png": "[encoded data removed]",
      "text/plain": [
       "<Figure size 864x360 with 1 Axes>"
      ]
     },
     "metadata": {
      "needs_background": "light"
     },
     "output_type": "display_data"
    },
    {
     "data": {
      "image/png": "[encoded data removed]",
      "text/plain": [
       "<Figure size 864x360 with 1 Axes>"
      ]
     },
     "metadata": {
      "needs_background": "light"
     },
     "output_type": "display_data"
    }
   ],
   "source": [
    "boxplot(data['Fuel_Type'])"
   ]
  },
  {
   "cell_type": "code",
   "execution_count": 43,
   "id": "394799e9",
   "metadata": {},
   "outputs": [
    {
     "data": {
      "image/png": "[encoded data removed]",
      "text/plain": [
       "<Figure size 864x360 with 1 Axes>"
      ]
     },
     "metadata": {
      "needs_background": "light"
     },
     "output_type": "display_data"
    },
    {
     "data": {
      "image/png": "[encoded data removed]",
      "text/plain": [
       "<Figure size 864x360 with 1 Axes>"
      ]
     },
     "metadata": {
      "needs_background": "light"
     },
     "output_type": "display_data"
    }
   ],
   "source": [
    "boxplot(data['Transmission'])"
   ]
  },
  {
   "cell_type": "code",
   "execution_count": 44,
   "id": "88c2c589",
   "metadata": {},
   "outputs": [
    {
     "data": {
      "image/png": "[encoded data removed]",
      "text/plain": [
       "<Figure size 864x360 with 1 Axes>"
      ]
     },
     "metadata": {
      "needs_background": "light"
     },
     "output_type": "display_data"
    },
    {
     "data": {
      "image/png": "[encoded data removed]",
      "text/plain": [
       "<Figure size 864x360 with 1 Axes>"
      ]
     },
     "metadata": {
      "needs_background": "light"
     },
     "output_type": "display_data"
    }
   ],
   "source": [
    "boxplot(data['Owner_Type'])"
   ]
  },
  {
   "cell_type": "markdown",
   "id": "ddefd420",
   "metadata": {},
   "source": [
    "**Observations and Insights for all plots:**\n",
    "- For Location, Coimbatore and Bangalore seem to be the places with the most variation in price.\n",
    "- For Fuel_Type, Diesel has the most variation.\n",
    "- Automatic transmission cars tend to have a higher price than manual, but variation is greater as well.\n",
    "- Many higher-priced cars have only had one to two owners."
   ]
  },
  {
   "cell_type": "markdown",
   "id": "e3bac500",
   "metadata": {},
   "source": [
    "### **Feature Engineering**"
   ]
  },
  {
   "cell_type": "markdown",
   "id": "fce860d4",
   "metadata": {},
   "source": [
    "**Note:** The `Name` variable currently contains a lot of information, such as the brand and model of the car. There are 2041 unique values, which doesn't make it a very good predictor. Let's extract some information out of `Name` that may be more useful in our analysis."
   ]
  },
  {
   "cell_type": "code",
   "execution_count": 45,
   "id": "9bd653a9",
   "metadata": {},
   "outputs": [],
   "source": [
    "# Function to help us find the brand of the car. For list of names l, extract the first word.\n",
    "def extract_first_word(l):\n",
    "    for name in l:\n",
    "        return name.split()[0]\n",
    "    \n",
    "data['Brand'] = data.apply(lambda n: extract_first_word(n), axis=1)"
   ]
  },
  {
   "cell_type": "code",
   "execution_count": 46,
   "id": "951385dd",
   "metadata": {},
   "outputs": [
    {
     "data": {
      "text/html": [
       "<div>\n",
       "<style scoped>\n",
       "    .dataframe tbody tr th:only-of-type {\n",
       "        vertical-align: middle;\n",
       "    }\n",
       "\n",
       "    .dataframe tbody tr th {\n",
       "        vertical-align: top;\n",
       "    }\n",
       "\n",
       "    .dataframe thead th {\n",
       "        text-align: right;\n",
       "    }\n",
       "</style>\n",
       "<table border=\"1\" class=\"dataframe\">\n",
       "  <thead>\n",
       "    <tr style=\"text-align: right;\">\n",
       "      <th></th>\n",
       "      <th>Name</th>\n",
       "      <th>Brand</th>\n",
       "    </tr>\n",
       "  </thead>\n",
       "  <tbody>\n",
       "    <tr>\n",
       "      <th>0</th>\n",
       "      <td>Maruti Wagon R LXI CNG</td>\n",
       "      <td>Maruti</td>\n",
       "    </tr>\n",
       "    <tr>\n",
       "      <th>1</th>\n",
       "      <td>Hyundai Creta 1.6 CRDi SX Option</td>\n",
       "      <td>Hyundai</td>\n",
       "    </tr>\n",
       "    <tr>\n",
       "      <th>2</th>\n",
       "      <td>Honda Jazz V</td>\n",
       "      <td>Honda</td>\n",
       "    </tr>\n",
       "    <tr>\n",
       "      <th>3</th>\n",
       "      <td>Maruti Ertiga VDI</td>\n",
       "      <td>Maruti</td>\n",
       "    </tr>\n",
       "    <tr>\n",
       "      <th>4</th>\n",
       "      <td>Audi A4 New 2.0 TDI Multitronic</td>\n",
       "      <td>Audi</td>\n",
       "    </tr>\n",
       "  </tbody>\n",
       "</table>\n",
       "</div>"
      ],
      "text/plain": [
       "                               Name    Brand\n",
       "0            Maruti Wagon R LXI CNG   Maruti\n",
       "1  Hyundai Creta 1.6 CRDi SX Option  Hyundai\n",
       "2                      Honda Jazz V    Honda\n",
       "3                 Maruti Ertiga VDI   Maruti\n",
       "4   Audi A4 New 2.0 TDI Multitronic     Audi"
      ]
     },
     "execution_count": 46,
     "metadata": {},
     "output_type": "execute_result"
    }
   ],
   "source": [
    "data[['Name','Brand']].head()"
   ]
  },
  {
   "cell_type": "code",
   "execution_count": 47,
   "id": "c0c3357e",
   "metadata": {},
   "outputs": [
    {
     "data": {
      "text/plain": [
       "array(['Maruti', 'Hyundai', 'Honda', 'Audi', 'Nissan', 'Toyota',\n",
       "       'Volkswagen', 'Tata', 'Land', 'Mitsubishi', 'Renault',\n",
       "       'Mercedes-Benz', 'BMW', 'Mahindra', 'Ford', 'Porsche', 'Datsun',\n",
       "       'Jaguar', 'Volvo', 'Chevrolet', 'Skoda', 'Mini', 'Fiat', 'Jeep',\n",
       "       'Smart', 'Ambassador', 'Isuzu', 'ISUZU', 'Force', 'Bentley',\n",
       "       'Lamborghini', 'Hindustan', 'OpelCorsa'], dtype=object)"
      ]
     },
     "execution_count": 47,
     "metadata": {},
     "output_type": "execute_result"
    }
   ],
   "source": [
    "data['Brand'].unique()"
   ]
  },
  {
   "cell_type": "markdown",
   "id": "b03f7119",
   "metadata": {},
   "source": [
    "- There are two Isuzus, which we will condense into one.\n",
    "- Land Rover has also been shortened to Land, which we will fix."
   ]
  },
  {
   "cell_type": "code",
   "execution_count": 48,
   "id": "01ba2daa",
   "metadata": {},
   "outputs": [],
   "source": [
    "data['Brand'] = data['Brand'].apply(lambda x: 'Isuzu' if x == 'ISUZU' else x)\n",
    "\n",
    "data['Brand'] = data['Brand'].apply(lambda x: 'Land Rover' if x == 'Land' else x)"
   ]
  },
  {
   "cell_type": "code",
   "execution_count": 49,
   "id": "5d254a1e",
   "metadata": {},
   "outputs": [
    {
     "data": {
      "text/plain": [
       "array(['Maruti', 'Hyundai', 'Honda', 'Audi', 'Nissan', 'Toyota',\n",
       "       'Volkswagen', 'Tata', 'Land Rover', 'Mitsubishi', 'Renault',\n",
       "       'Mercedes-Benz', 'BMW', 'Mahindra', 'Ford', 'Porsche', 'Datsun',\n",
       "       'Jaguar', 'Volvo', 'Chevrolet', 'Skoda', 'Mini', 'Fiat', 'Jeep',\n",
       "       'Smart', 'Ambassador', 'Isuzu', 'Force', 'Bentley', 'Lamborghini',\n",
       "       'Hindustan', 'OpelCorsa'], dtype=object)"
      ]
     },
     "execution_count": 49,
     "metadata": {},
     "output_type": "execute_result"
    }
   ],
   "source": [
    "data['Brand'].unique()"
   ]
  },
  {
   "cell_type": "code",
   "execution_count": 50,
   "id": "898e9983",
   "metadata": {},
   "outputs": [
    {
     "data": {
      "text/plain": [
       "32"
      ]
     },
     "execution_count": 50,
     "metadata": {},
     "output_type": "execute_result"
    }
   ],
   "source": [
    "data['Brand'].nunique()"
   ]
  },
  {
   "cell_type": "markdown",
   "id": "1c300471",
   "metadata": {},
   "source": [
    "#### **Observations and Insights:**\n",
    "- From the name column, it seems that the car brand is listed first. We can use this to our advantage and extract the car brand from the car name and place the values into a separate column.\n",
    "- The data was relatively clean, so there was minimal cleaning required.\n",
    "- The data is much more usable now, going from 2041 unique values to 32."
   ]
  },
  {
   "cell_type": "markdown",
   "id": "aa7c76a6",
   "metadata": {},
   "source": [
    "### **Missing value treatment**"
   ]
  },
  {
   "cell_type": "code",
   "execution_count": 51,
   "id": "babe9590",
   "metadata": {},
   "outputs": [
    {
     "data": {
      "text/html": [
       "<div>\n",
       "<style scoped>\n",
       "    .dataframe tbody tr th:only-of-type {\n",
       "        vertical-align: middle;\n",
       "    }\n",
       "\n",
       "    .dataframe tbody tr th {\n",
       "        vertical-align: top;\n",
       "    }\n",
       "\n",
       "    .dataframe thead th {\n",
       "        text-align: right;\n",
       "    }\n",
       "</style>\n",
       "<table border=\"1\" class=\"dataframe\">\n",
       "  <thead>\n",
       "    <tr style=\"text-align: right;\">\n",
       "      <th></th>\n",
       "      <th>Name</th>\n",
       "      <th>Location</th>\n",
       "      <th>Year</th>\n",
       "      <th>Kilometers_Driven</th>\n",
       "      <th>Fuel_Type</th>\n",
       "      <th>Transmission</th>\n",
       "      <th>Owner_Type</th>\n",
       "      <th>Mileage</th>\n",
       "      <th>Engine</th>\n",
       "      <th>Power</th>\n",
       "      <th>Seats</th>\n",
       "      <th>New_price</th>\n",
       "      <th>Price</th>\n",
       "      <th>kilometers_driven_log</th>\n",
       "      <th>price_log</th>\n",
       "      <th>Brand</th>\n",
       "    </tr>\n",
       "  </thead>\n",
       "  <tbody>\n",
       "    <tr>\n",
       "      <th>0</th>\n",
       "      <td>False</td>\n",
       "      <td>False</td>\n",
       "      <td>False</td>\n",
       "      <td>False</td>\n",
       "      <td>False</td>\n",
       "      <td>False</td>\n",
       "      <td>False</td>\n",
       "      <td>False</td>\n",
       "      <td>False</td>\n",
       "      <td>False</td>\n",
       "      <td>False</td>\n",
       "      <td>True</td>\n",
       "      <td>False</td>\n",
       "      <td>False</td>\n",
       "      <td>False</td>\n",
       "      <td>False</td>\n",
       "    </tr>\n",
       "    <tr>\n",
       "      <th>1</th>\n",
       "      <td>False</td>\n",
       "      <td>False</td>\n",
       "      <td>False</td>\n",
       "      <td>False</td>\n",
       "      <td>False</td>\n",
       "      <td>False</td>\n",
       "      <td>False</td>\n",
       "      <td>False</td>\n",
       "      <td>False</td>\n",
       "      <td>False</td>\n",
       "      <td>False</td>\n",
       "      <td>True</td>\n",
       "      <td>False</td>\n",
       "      <td>False</td>\n",
       "      <td>False</td>\n",
       "      <td>False</td>\n",
       "    </tr>\n",
       "    <tr>\n",
       "      <th>2</th>\n",
       "      <td>False</td>\n",
       "      <td>False</td>\n",
       "      <td>False</td>\n",
       "      <td>False</td>\n",
       "      <td>False</td>\n",
       "      <td>False</td>\n",
       "      <td>False</td>\n",
       "      <td>False</td>\n",
       "      <td>False</td>\n",
       "      <td>False</td>\n",
       "      <td>False</td>\n",
       "      <td>False</td>\n",
       "      <td>False</td>\n",
       "      <td>False</td>\n",
       "      <td>False</td>\n",
       "      <td>False</td>\n",
       "    </tr>\n",
       "    <tr>\n",
       "      <th>3</th>\n",
       "      <td>False</td>\n",
       "      <td>False</td>\n",
       "      <td>False</td>\n",
       "      <td>False</td>\n",
       "      <td>False</td>\n",
       "      <td>False</td>\n",
       "      <td>False</td>\n",
       "      <td>False</td>\n",
       "      <td>False</td>\n",
       "      <td>False</td>\n",
       "      <td>False</td>\n",
       "      <td>True</td>\n",
       "      <td>False</td>\n",
       "      <td>False</td>\n",
       "      <td>False</td>\n",
       "      <td>False</td>\n",
       "    </tr>\n",
       "    <tr>\n",
       "      <th>4</th>\n",
       "      <td>False</td>\n",
       "      <td>False</td>\n",
       "      <td>False</td>\n",
       "      <td>False</td>\n",
       "      <td>False</td>\n",
       "      <td>False</td>\n",
       "      <td>False</td>\n",
       "      <td>False</td>\n",
       "      <td>False</td>\n",
       "      <td>False</td>\n",
       "      <td>False</td>\n",
       "      <td>True</td>\n",
       "      <td>False</td>\n",
       "      <td>False</td>\n",
       "      <td>False</td>\n",
       "      <td>False</td>\n",
       "    </tr>\n",
       "    <tr>\n",
       "      <th>...</th>\n",
       "      <td>...</td>\n",
       "      <td>...</td>\n",
       "      <td>...</td>\n",
       "      <td>...</td>\n",
       "      <td>...</td>\n",
       "      <td>...</td>\n",
       "      <td>...</td>\n",
       "      <td>...</td>\n",
       "      <td>...</td>\n",
       "      <td>...</td>\n",
       "      <td>...</td>\n",
       "      <td>...</td>\n",
       "      <td>...</td>\n",
       "      <td>...</td>\n",
       "      <td>...</td>\n",
       "      <td>...</td>\n",
       "    </tr>\n",
       "    <tr>\n",
       "      <th>7248</th>\n",
       "      <td>False</td>\n",
       "      <td>False</td>\n",
       "      <td>False</td>\n",
       "      <td>False</td>\n",
       "      <td>False</td>\n",
       "      <td>False</td>\n",
       "      <td>False</td>\n",
       "      <td>False</td>\n",
       "      <td>False</td>\n",
       "      <td>False</td>\n",
       "      <td>False</td>\n",
       "      <td>True</td>\n",
       "      <td>True</td>\n",
       "      <td>False</td>\n",
       "      <td>True</td>\n",
       "      <td>False</td>\n",
       "    </tr>\n",
       "    <tr>\n",
       "      <th>7249</th>\n",
       "      <td>False</td>\n",
       "      <td>False</td>\n",
       "      <td>False</td>\n",
       "      <td>False</td>\n",
       "      <td>False</td>\n",
       "      <td>False</td>\n",
       "      <td>False</td>\n",
       "      <td>False</td>\n",
       "      <td>False</td>\n",
       "      <td>False</td>\n",
       "      <td>False</td>\n",
       "      <td>True</td>\n",
       "      <td>True</td>\n",
       "      <td>False</td>\n",
       "      <td>True</td>\n",
       "      <td>False</td>\n",
       "    </tr>\n",
       "    <tr>\n",
       "      <th>7250</th>\n",
       "      <td>False</td>\n",
       "      <td>False</td>\n",
       "      <td>False</td>\n",
       "      <td>False</td>\n",
       "      <td>False</td>\n",
       "      <td>False</td>\n",
       "      <td>False</td>\n",
       "      <td>False</td>\n",
       "      <td>False</td>\n",
       "      <td>False</td>\n",
       "      <td>False</td>\n",
       "      <td>True</td>\n",
       "      <td>True</td>\n",
       "      <td>False</td>\n",
       "      <td>True</td>\n",
       "      <td>False</td>\n",
       "    </tr>\n",
       "    <tr>\n",
       "      <th>7251</th>\n",
       "      <td>False</td>\n",
       "      <td>False</td>\n",
       "      <td>False</td>\n",
       "      <td>False</td>\n",
       "      <td>False</td>\n",
       "      <td>False</td>\n",
       "      <td>False</td>\n",
       "      <td>False</td>\n",
       "      <td>False</td>\n",
       "      <td>False</td>\n",
       "      <td>False</td>\n",
       "      <td>True</td>\n",
       "      <td>True</td>\n",
       "      <td>False</td>\n",
       "      <td>True</td>\n",
       "      <td>False</td>\n",
       "    </tr>\n",
       "    <tr>\n",
       "      <th>7252</th>\n",
       "      <td>False</td>\n",
       "      <td>False</td>\n",
       "      <td>False</td>\n",
       "      <td>False</td>\n",
       "      <td>False</td>\n",
       "      <td>False</td>\n",
       "      <td>False</td>\n",
       "      <td>False</td>\n",
       "      <td>False</td>\n",
       "      <td>False</td>\n",
       "      <td>False</td>\n",
       "      <td>True</td>\n",
       "      <td>True</td>\n",
       "      <td>False</td>\n",
       "      <td>True</td>\n",
       "      <td>False</td>\n",
       "    </tr>\n",
       "  </tbody>\n",
       "</table>\n",
       "<p>7252 rows × 16 columns</p>\n",
       "</div>"
      ],
      "text/plain": [
       "       Name  Location   Year  Kilometers_Driven  Fuel_Type  Transmission  \\\n",
       "0     False     False  False              False      False         False   \n",
       "1     False     False  False              False      False         False   \n",
       "2     False     False  False              False      False         False   \n",
       "3     False     False  False              False      False         False   \n",
       "4     False     False  False              False      False         False   \n",
       "...     ...       ...    ...                ...        ...           ...   \n",
       "7248  False     False  False              False      False         False   \n",
       "7249  False     False  False              False      False         False   \n",
       "7250  False     False  False              False      False         False   \n",
       "7251  False     False  False              False      False         False   \n",
       "7252  False     False  False              False      False         False   \n",
       "\n",
       "      Owner_Type  Mileage  Engine  Power  Seats  New_price  Price  \\\n",
       "0          False    False   False  False  False       True  False   \n",
       "1          False    False   False  False  False       True  False   \n",
       "2          False    False   False  False  False      False  False   \n",
       "3          False    False   False  False  False       True  False   \n",
       "4          False    False   False  False  False       True  False   \n",
       "...          ...      ...     ...    ...    ...        ...    ...   \n",
       "7248       False    False   False  False  False       True   True   \n",
       "7249       False    False   False  False  False       True   True   \n",
       "7250       False    False   False  False  False       True   True   \n",
       "7251       False    False   False  False  False       True   True   \n",
       "7252       False    False   False  False  False       True   True   \n",
       "\n",
       "      kilometers_driven_log  price_log  Brand  \n",
       "0                     False      False  False  \n",
       "1                     False      False  False  \n",
       "2                     False      False  False  \n",
       "3                     False      False  False  \n",
       "4                     False      False  False  \n",
       "...                     ...        ...    ...  \n",
       "7248                  False       True  False  \n",
       "7249                  False       True  False  \n",
       "7250                  False       True  False  \n",
       "7251                  False       True  False  \n",
       "7252                  False       True  False  \n",
       "\n",
       "[7252 rows x 16 columns]"
      ]
     },
     "execution_count": 51,
     "metadata": {},
     "output_type": "execute_result"
    }
   ],
   "source": [
    "data.isnull()"
   ]
  },
  {
   "cell_type": "code",
   "execution_count": 52,
   "id": "93cefd91",
   "metadata": {},
   "outputs": [
    {
     "data": {
      "text/plain": [
       "Name                        0\n",
       "Location                    0\n",
       "Year                        0\n",
       "Kilometers_Driven           0\n",
       "Fuel_Type                   0\n",
       "Transmission                0\n",
       "Owner_Type                  0\n",
       "Mileage                     2\n",
       "Engine                     46\n",
       "Power                     175\n",
       "Seats                      53\n",
       "New_price                6246\n",
       "Price                    1234\n",
       "kilometers_driven_log       0\n",
       "price_log                1234\n",
       "Brand                       0\n",
       "dtype: int64"
      ]
     },
     "execution_count": 52,
     "metadata": {},
     "output_type": "execute_result"
    }
   ],
   "source": [
    "data.isnull().sum()"
   ]
  },
  {
   "cell_type": "markdown",
   "id": "df964e8f",
   "metadata": {},
   "source": [
    "#### **Observations and Insights:**\n",
    "- The column with the most missing values is New_price.\n",
    "- Price is also missing some values.\n",
    "- Mileage, Engine, Power, and Seats are missing a few values.\n",
    "- Every other column is filled completely."
   ]
  },
  {
   "cell_type": "markdown",
   "id": "20a4884a",
   "metadata": {},
   "source": [
    "**Missing values in Seats**"
   ]
  },
  {
   "cell_type": "code",
   "execution_count": 53,
   "id": "4e001460",
   "metadata": {},
   "outputs": [
    {
     "data": {
      "text/plain": [
       "53"
      ]
     },
     "execution_count": 53,
     "metadata": {},
     "output_type": "execute_result"
    }
   ],
   "source": [
    "data['Seats'].isnull().sum()"
   ]
  },
  {
   "cell_type": "markdown",
   "id": "a81e20ca",
   "metadata": {},
   "source": [
    "We can use the information extracted from the `Name` column to help input missing values"
   ]
  },
  {
   "cell_type": "code",
   "execution_count": 54,
   "id": "f4be44bb",
   "metadata": {},
   "outputs": [],
   "source": [
    "# Iterate through all car brands and fill in null values of those car brands with the median number of seats for the brand\n",
    "for b in data['Brand'].unique():\n",
    "    seats_indices = data[data['Seats'].isnull()].query(\" Brand == @b \").index\n",
    "    data.loc[seats_indices, 'Seats'] = data.loc[data['Brand'] == b]['Seats'].median()"
   ]
  },
  {
   "cell_type": "code",
   "execution_count": 55,
   "id": "c6499383",
   "metadata": {},
   "outputs": [
    {
     "data": {
      "text/plain": [
       "0"
      ]
     },
     "execution_count": 55,
     "metadata": {},
     "output_type": "execute_result"
    }
   ],
   "source": [
    "data['Seats'].isnull().sum()"
   ]
  },
  {
   "cell_type": "markdown",
   "id": "0b0b17ec",
   "metadata": {},
   "source": [
    "**Missing values for Mileage**"
   ]
  },
  {
   "cell_type": "code",
   "execution_count": 56,
   "id": "325ff06a",
   "metadata": {},
   "outputs": [
    {
     "data": {
      "text/plain": [
       "2"
      ]
     },
     "execution_count": 56,
     "metadata": {},
     "output_type": "execute_result"
    }
   ],
   "source": [
    "data['Mileage'].isnull().sum()"
   ]
  },
  {
   "cell_type": "code",
   "execution_count": 57,
   "id": "506ee6bf",
   "metadata": {},
   "outputs": [],
   "source": [
    "# Use median to fill in missing values\n",
    "for b in data['Brand'].unique():\n",
    "    mileage_indices = data[data['Mileage'].isnull()].query(\" Brand == @b \").index\n",
    "    data.loc[mileage_indices, 'Mileage'] = data.loc[data['Brand'] == b]['Mileage'].median()"
   ]
  },
  {
   "cell_type": "code",
   "execution_count": 58,
   "id": "9390179e",
   "metadata": {},
   "outputs": [
    {
     "data": {
      "text/plain": [
       "0"
      ]
     },
     "execution_count": 58,
     "metadata": {},
     "output_type": "execute_result"
    }
   ],
   "source": [
    "data['Mileage'].isnull().sum()"
   ]
  },
  {
   "cell_type": "markdown",
   "id": "bcd22702",
   "metadata": {},
   "source": [
    "**Missing values for Engine**"
   ]
  },
  {
   "cell_type": "code",
   "execution_count": 59,
   "id": "2e4521ba",
   "metadata": {},
   "outputs": [
    {
     "data": {
      "text/plain": [
       "46"
      ]
     },
     "execution_count": 59,
     "metadata": {},
     "output_type": "execute_result"
    }
   ],
   "source": [
    "data['Engine'].isnull().sum()"
   ]
  },
  {
   "cell_type": "code",
   "execution_count": 60,
   "id": "3497e045",
   "metadata": {},
   "outputs": [],
   "source": [
    "for b in data['Brand'].unique():\n",
    "    engine_indices = data[data['Engine'].isnull()].query(\" Brand == @b \").index\n",
    "    data.loc[engine_indices, 'Engine'] = data.loc[data['Brand'] == b]['Engine'].median()"
   ]
  },
  {
   "cell_type": "code",
   "execution_count": 61,
   "id": "9616ec36",
   "metadata": {},
   "outputs": [
    {
     "data": {
      "text/plain": [
       "0"
      ]
     },
     "execution_count": 61,
     "metadata": {},
     "output_type": "execute_result"
    }
   ],
   "source": [
    "data['Engine'].isnull().sum()"
   ]
  },
  {
   "cell_type": "markdown",
   "id": "18ca7860",
   "metadata": {},
   "source": [
    "**Missing values for Power**"
   ]
  },
  {
   "cell_type": "code",
   "execution_count": 62,
   "id": "a9e43e28",
   "metadata": {},
   "outputs": [
    {
     "data": {
      "text/plain": [
       "175"
      ]
     },
     "execution_count": 62,
     "metadata": {},
     "output_type": "execute_result"
    }
   ],
   "source": [
    "data['Power'].isnull().sum()"
   ]
  },
  {
   "cell_type": "code",
   "execution_count": 63,
   "id": "a8bb9581",
   "metadata": {},
   "outputs": [],
   "source": [
    "for b in data['Brand'].unique():\n",
    "    power_indices = data[data['Power'].isnull()].query(\" Brand == @b \").index\n",
    "    data.loc[power_indices, 'Power'] = data.loc[data['Brand'] == b]['Power'].median()"
   ]
  },
  {
   "cell_type": "markdown",
   "id": "ba8d47eb",
   "metadata": {},
   "source": [
    "**Missing values for New_price**"
   ]
  },
  {
   "cell_type": "code",
   "execution_count": 64,
   "id": "16def65d",
   "metadata": {},
   "outputs": [
    {
     "data": {
      "text/plain": [
       "6246"
      ]
     },
     "execution_count": 64,
     "metadata": {},
     "output_type": "execute_result"
    }
   ],
   "source": [
    "data['New_price'].isnull().sum()"
   ]
  },
  {
   "cell_type": "code",
   "execution_count": 65,
   "id": "2f922e67",
   "metadata": {},
   "outputs": [],
   "source": [
    "for b in data['Brand'].unique():\n",
    "    newprice_indices = data[data['New_price'].isnull()].query(\" Brand == @b \").index\n",
    "    data.loc[newprice_indices, 'New_price'] = data.loc[data['Brand'] == b]['New_price'].median()"
   ]
  },
  {
   "cell_type": "code",
   "execution_count": 66,
   "id": "442dc520",
   "metadata": {},
   "outputs": [
    {
     "data": {
      "text/plain": [
       "Name                        0\n",
       "Location                    0\n",
       "Year                        0\n",
       "Kilometers_Driven           0\n",
       "Fuel_Type                   0\n",
       "Transmission                0\n",
       "Owner_Type                  0\n",
       "Mileage                     0\n",
       "Engine                      0\n",
       "Power                       2\n",
       "Seats                       0\n",
       "New_price                 159\n",
       "Price                    1234\n",
       "kilometers_driven_log       0\n",
       "price_log                1234\n",
       "Brand                       0\n",
       "dtype: int64"
      ]
     },
     "execution_count": 66,
     "metadata": {},
     "output_type": "execute_result"
    }
   ],
   "source": [
    "data.isnull().sum()"
   ]
  },
  {
   "cell_type": "code",
   "execution_count": 67,
   "id": "ef333049",
   "metadata": {},
   "outputs": [
    {
     "data": {
      "text/html": [
       "<div>\n",
       "<style scoped>\n",
       "    .dataframe tbody tr th:only-of-type {\n",
       "        vertical-align: middle;\n",
       "    }\n",
       "\n",
       "    .dataframe tbody tr th {\n",
       "        vertical-align: top;\n",
       "    }\n",
       "\n",
       "    .dataframe thead th {\n",
       "        text-align: right;\n",
       "    }\n",
       "</style>\n",
       "<table border=\"1\" class=\"dataframe\">\n",
       "  <thead>\n",
       "    <tr style=\"text-align: right;\">\n",
       "      <th></th>\n",
       "      <th>Name</th>\n",
       "      <th>Location</th>\n",
       "      <th>Year</th>\n",
       "      <th>Kilometers_Driven</th>\n",
       "      <th>Fuel_Type</th>\n",
       "      <th>Transmission</th>\n",
       "      <th>Owner_Type</th>\n",
       "      <th>Mileage</th>\n",
       "      <th>Engine</th>\n",
       "      <th>Power</th>\n",
       "      <th>Seats</th>\n",
       "      <th>New_price</th>\n",
       "      <th>Price</th>\n",
       "      <th>kilometers_driven_log</th>\n",
       "      <th>price_log</th>\n",
       "      <th>Brand</th>\n",
       "    </tr>\n",
       "  </thead>\n",
       "  <tbody>\n",
       "    <tr>\n",
       "      <th>145</th>\n",
       "      <td>Chevrolet Beat LT Option</td>\n",
       "      <td>Pune</td>\n",
       "      <td>2014</td>\n",
       "      <td>38800</td>\n",
       "      <td>Petrol</td>\n",
       "      <td>Manual</td>\n",
       "      <td>First</td>\n",
       "      <td>18.60</td>\n",
       "      <td>1199.0</td>\n",
       "      <td>76.80</td>\n",
       "      <td>5.0</td>\n",
       "      <td>NaN</td>\n",
       "      <td>2.85</td>\n",
       "      <td>10.566176</td>\n",
       "      <td>1.047319</td>\n",
       "      <td>Chevrolet</td>\n",
       "    </tr>\n",
       "    <tr>\n",
       "      <th>179</th>\n",
       "      <td>Chevrolet Beat Diesel LT</td>\n",
       "      <td>Jaipur</td>\n",
       "      <td>2012</td>\n",
       "      <td>88000</td>\n",
       "      <td>Diesel</td>\n",
       "      <td>Manual</td>\n",
       "      <td>First</td>\n",
       "      <td>25.44</td>\n",
       "      <td>936.0</td>\n",
       "      <td>57.60</td>\n",
       "      <td>5.0</td>\n",
       "      <td>NaN</td>\n",
       "      <td>1.50</td>\n",
       "      <td>11.385092</td>\n",
       "      <td>0.405465</td>\n",
       "      <td>Chevrolet</td>\n",
       "    </tr>\n",
       "    <tr>\n",
       "      <th>183</th>\n",
       "      <td>Chevrolet Optra Magnum 1.6 LS BS3</td>\n",
       "      <td>Jaipur</td>\n",
       "      <td>2007</td>\n",
       "      <td>118500</td>\n",
       "      <td>Petrol</td>\n",
       "      <td>Manual</td>\n",
       "      <td>First</td>\n",
       "      <td>12.90</td>\n",
       "      <td>1598.0</td>\n",
       "      <td>102.50</td>\n",
       "      <td>5.0</td>\n",
       "      <td>NaN</td>\n",
       "      <td>1.25</td>\n",
       "      <td>11.682668</td>\n",
       "      <td>0.223144</td>\n",
       "      <td>Chevrolet</td>\n",
       "    </tr>\n",
       "    <tr>\n",
       "      <th>231</th>\n",
       "      <td>Chevrolet Beat LT</td>\n",
       "      <td>Kochi</td>\n",
       "      <td>2016</td>\n",
       "      <td>60813</td>\n",
       "      <td>Petrol</td>\n",
       "      <td>Manual</td>\n",
       "      <td>Second</td>\n",
       "      <td>18.60</td>\n",
       "      <td>1199.0</td>\n",
       "      <td>76.80</td>\n",
       "      <td>5.0</td>\n",
       "      <td>NaN</td>\n",
       "      <td>3.32</td>\n",
       "      <td>11.015559</td>\n",
       "      <td>1.199965</td>\n",
       "      <td>Chevrolet</td>\n",
       "    </tr>\n",
       "    <tr>\n",
       "      <th>240</th>\n",
       "      <td>Chevrolet Beat Diesel LT</td>\n",
       "      <td>Mumbai</td>\n",
       "      <td>2013</td>\n",
       "      <td>74000</td>\n",
       "      <td>Diesel</td>\n",
       "      <td>Manual</td>\n",
       "      <td>First</td>\n",
       "      <td>25.44</td>\n",
       "      <td>936.0</td>\n",
       "      <td>57.60</td>\n",
       "      <td>5.0</td>\n",
       "      <td>NaN</td>\n",
       "      <td>2.65</td>\n",
       "      <td>11.211820</td>\n",
       "      <td>0.974560</td>\n",
       "      <td>Chevrolet</td>\n",
       "    </tr>\n",
       "    <tr>\n",
       "      <th>...</th>\n",
       "      <td>...</td>\n",
       "      <td>...</td>\n",
       "      <td>...</td>\n",
       "      <td>...</td>\n",
       "      <td>...</td>\n",
       "      <td>...</td>\n",
       "      <td>...</td>\n",
       "      <td>...</td>\n",
       "      <td>...</td>\n",
       "      <td>...</td>\n",
       "      <td>...</td>\n",
       "      <td>...</td>\n",
       "      <td>...</td>\n",
       "      <td>...</td>\n",
       "      <td>...</td>\n",
       "      <td>...</td>\n",
       "    </tr>\n",
       "    <tr>\n",
       "      <th>7111</th>\n",
       "      <td>Chevrolet Enjoy Petrol LTZ 7 Seater</td>\n",
       "      <td>Mumbai</td>\n",
       "      <td>2013</td>\n",
       "      <td>39000</td>\n",
       "      <td>Petrol</td>\n",
       "      <td>Manual</td>\n",
       "      <td>First</td>\n",
       "      <td>13.70</td>\n",
       "      <td>1399.0</td>\n",
       "      <td>98.82</td>\n",
       "      <td>7.0</td>\n",
       "      <td>NaN</td>\n",
       "      <td>NaN</td>\n",
       "      <td>10.571317</td>\n",
       "      <td>NaN</td>\n",
       "      <td>Chevrolet</td>\n",
       "    </tr>\n",
       "    <tr>\n",
       "      <th>7136</th>\n",
       "      <td>Chevrolet Spark 1.0 PS</td>\n",
       "      <td>Jaipur</td>\n",
       "      <td>2010</td>\n",
       "      <td>6512</td>\n",
       "      <td>Petrol</td>\n",
       "      <td>Manual</td>\n",
       "      <td>First</td>\n",
       "      <td>16.00</td>\n",
       "      <td>995.0</td>\n",
       "      <td>63.00</td>\n",
       "      <td>5.0</td>\n",
       "      <td>NaN</td>\n",
       "      <td>NaN</td>\n",
       "      <td>8.781402</td>\n",
       "      <td>NaN</td>\n",
       "      <td>Chevrolet</td>\n",
       "    </tr>\n",
       "    <tr>\n",
       "      <th>7141</th>\n",
       "      <td>Chevrolet Enjoy 1.4 LTZ 8</td>\n",
       "      <td>Pune</td>\n",
       "      <td>2016</td>\n",
       "      <td>67000</td>\n",
       "      <td>Petrol</td>\n",
       "      <td>Manual</td>\n",
       "      <td>First</td>\n",
       "      <td>13.70</td>\n",
       "      <td>1399.0</td>\n",
       "      <td>98.79</td>\n",
       "      <td>8.0</td>\n",
       "      <td>NaN</td>\n",
       "      <td>NaN</td>\n",
       "      <td>11.112448</td>\n",
       "      <td>NaN</td>\n",
       "      <td>Chevrolet</td>\n",
       "    </tr>\n",
       "    <tr>\n",
       "      <th>7223</th>\n",
       "      <td>Chevrolet Captiva LT</td>\n",
       "      <td>Kochi</td>\n",
       "      <td>2011</td>\n",
       "      <td>99120</td>\n",
       "      <td>Diesel</td>\n",
       "      <td>Manual</td>\n",
       "      <td>First</td>\n",
       "      <td>11.50</td>\n",
       "      <td>1991.0</td>\n",
       "      <td>147.90</td>\n",
       "      <td>7.0</td>\n",
       "      <td>NaN</td>\n",
       "      <td>NaN</td>\n",
       "      <td>11.504087</td>\n",
       "      <td>NaN</td>\n",
       "      <td>Chevrolet</td>\n",
       "    </tr>\n",
       "    <tr>\n",
       "      <th>7244</th>\n",
       "      <td>Chevrolet Aveo 1.4 LS</td>\n",
       "      <td>Pune</td>\n",
       "      <td>2009</td>\n",
       "      <td>45463</td>\n",
       "      <td>Petrol</td>\n",
       "      <td>Manual</td>\n",
       "      <td>First</td>\n",
       "      <td>14.49</td>\n",
       "      <td>1399.0</td>\n",
       "      <td>92.70</td>\n",
       "      <td>5.0</td>\n",
       "      <td>NaN</td>\n",
       "      <td>NaN</td>\n",
       "      <td>10.724654</td>\n",
       "      <td>NaN</td>\n",
       "      <td>Chevrolet</td>\n",
       "    </tr>\n",
       "  </tbody>\n",
       "</table>\n",
       "<p>159 rows × 16 columns</p>\n",
       "</div>"
      ],
      "text/plain": [
       "                                     Name Location  Year  Kilometers_Driven  \\\n",
       "145              Chevrolet Beat LT Option     Pune  2014              38800   \n",
       "179              Chevrolet Beat Diesel LT   Jaipur  2012              88000   \n",
       "183     Chevrolet Optra Magnum 1.6 LS BS3   Jaipur  2007             118500   \n",
       "231                     Chevrolet Beat LT    Kochi  2016              60813   \n",
       "240              Chevrolet Beat Diesel LT   Mumbai  2013              74000   \n",
       "...                                   ...      ...   ...                ...   \n",
       "7111  Chevrolet Enjoy Petrol LTZ 7 Seater   Mumbai  2013              39000   \n",
       "7136               Chevrolet Spark 1.0 PS   Jaipur  2010               6512   \n",
       "7141            Chevrolet Enjoy 1.4 LTZ 8     Pune  2016              67000   \n",
       "7223                 Chevrolet Captiva LT    Kochi  2011              99120   \n",
       "7244                Chevrolet Aveo 1.4 LS     Pune  2009              45463   \n",
       "\n",
       "     Fuel_Type Transmission Owner_Type  Mileage  Engine   Power  Seats  \\\n",
       "145     Petrol       Manual      First    18.60  1199.0   76.80    5.0   \n",
       "179     Diesel       Manual      First    25.44   936.0   57.60    5.0   \n",
       "183     Petrol       Manual      First    12.90  1598.0  102.50    5.0   \n",
       "231     Petrol       Manual     Second    18.60  1199.0   76.80    5.0   \n",
       "240     Diesel       Manual      First    25.44   936.0   57.60    5.0   \n",
       "...        ...          ...        ...      ...     ...     ...    ...   \n",
       "7111    Petrol       Manual      First    13.70  1399.0   98.82    7.0   \n",
       "7136    Petrol       Manual      First    16.00   995.0   63.00    5.0   \n",
       "7141    Petrol       Manual      First    13.70  1399.0   98.79    8.0   \n",
       "7223    Diesel       Manual      First    11.50  1991.0  147.90    7.0   \n",
       "7244    Petrol       Manual      First    14.49  1399.0   92.70    5.0   \n",
       "\n",
       "      New_price  Price  kilometers_driven_log  price_log      Brand  \n",
       "145         NaN   2.85              10.566176   1.047319  Chevrolet  \n",
       "179         NaN   1.50              11.385092   0.405465  Chevrolet  \n",
       "183         NaN   1.25              11.682668   0.223144  Chevrolet  \n",
       "231         NaN   3.32              11.015559   1.199965  Chevrolet  \n",
       "240         NaN   2.65              11.211820   0.974560  Chevrolet  \n",
       "...         ...    ...                    ...        ...        ...  \n",
       "7111        NaN    NaN              10.571317        NaN  Chevrolet  \n",
       "7136        NaN    NaN               8.781402        NaN  Chevrolet  \n",
       "7141        NaN    NaN              11.112448        NaN  Chevrolet  \n",
       "7223        NaN    NaN              11.504087        NaN  Chevrolet  \n",
       "7244        NaN    NaN              10.724654        NaN  Chevrolet  \n",
       "\n",
       "[159 rows x 16 columns]"
      ]
     },
     "execution_count": 67,
     "metadata": {},
     "output_type": "execute_result"
    }
   ],
   "source": [
    "data.loc[data['New_price'].isnull()]"
   ]
  },
  {
   "cell_type": "code",
   "execution_count": 68,
   "id": "740c67df",
   "metadata": {},
   "outputs": [],
   "source": [
    "data['New_price'].fillna(data['New_price'].median(), inplace=True)"
   ]
  },
  {
   "cell_type": "code",
   "execution_count": 69,
   "id": "f84ad46e",
   "metadata": {},
   "outputs": [
    {
     "data": {
      "text/html": [
       "<div>\n",
       "<style scoped>\n",
       "    .dataframe tbody tr th:only-of-type {\n",
       "        vertical-align: middle;\n",
       "    }\n",
       "\n",
       "    .dataframe tbody tr th {\n",
       "        vertical-align: top;\n",
       "    }\n",
       "\n",
       "    .dataframe thead th {\n",
       "        text-align: right;\n",
       "    }\n",
       "</style>\n",
       "<table border=\"1\" class=\"dataframe\">\n",
       "  <thead>\n",
       "    <tr style=\"text-align: right;\">\n",
       "      <th></th>\n",
       "      <th>Name</th>\n",
       "      <th>Location</th>\n",
       "      <th>Year</th>\n",
       "      <th>Kilometers_Driven</th>\n",
       "      <th>Fuel_Type</th>\n",
       "      <th>Transmission</th>\n",
       "      <th>Owner_Type</th>\n",
       "      <th>Mileage</th>\n",
       "      <th>Engine</th>\n",
       "      <th>Power</th>\n",
       "      <th>Seats</th>\n",
       "      <th>New_price</th>\n",
       "      <th>Price</th>\n",
       "      <th>kilometers_driven_log</th>\n",
       "      <th>price_log</th>\n",
       "      <th>Brand</th>\n",
       "    </tr>\n",
       "  </thead>\n",
       "  <tbody>\n",
       "    <tr>\n",
       "      <th>915</th>\n",
       "      <td>Smart Fortwo CDI AT</td>\n",
       "      <td>Pune</td>\n",
       "      <td>2008</td>\n",
       "      <td>103000</td>\n",
       "      <td>Diesel</td>\n",
       "      <td>Automatic</td>\n",
       "      <td>Second</td>\n",
       "      <td>0.0</td>\n",
       "      <td>799.0</td>\n",
       "      <td>NaN</td>\n",
       "      <td>2.0</td>\n",
       "      <td>11.105</td>\n",
       "      <td>3.0</td>\n",
       "      <td>11.542484</td>\n",
       "      <td>1.098612</td>\n",
       "      <td>Smart</td>\n",
       "    </tr>\n",
       "    <tr>\n",
       "      <th>6216</th>\n",
       "      <td>Hindustan Motors Contessa 2.0 DSL</td>\n",
       "      <td>Pune</td>\n",
       "      <td>1996</td>\n",
       "      <td>65000</td>\n",
       "      <td>Diesel</td>\n",
       "      <td>Manual</td>\n",
       "      <td>Second</td>\n",
       "      <td>14.1</td>\n",
       "      <td>1995.0</td>\n",
       "      <td>NaN</td>\n",
       "      <td>5.0</td>\n",
       "      <td>11.105</td>\n",
       "      <td>NaN</td>\n",
       "      <td>11.082143</td>\n",
       "      <td>NaN</td>\n",
       "      <td>Hindustan</td>\n",
       "    </tr>\n",
       "  </tbody>\n",
       "</table>\n",
       "</div>"
      ],
      "text/plain": [
       "                                   Name Location  Year  Kilometers_Driven  \\\n",
       "915                 Smart Fortwo CDI AT     Pune  2008             103000   \n",
       "6216  Hindustan Motors Contessa 2.0 DSL     Pune  1996              65000   \n",
       "\n",
       "     Fuel_Type Transmission Owner_Type  Mileage  Engine  Power  Seats  \\\n",
       "915     Diesel    Automatic     Second      0.0   799.0    NaN    2.0   \n",
       "6216    Diesel       Manual     Second     14.1  1995.0    NaN    5.0   \n",
       "\n",
       "      New_price  Price  kilometers_driven_log  price_log      Brand  \n",
       "915      11.105    3.0              11.542484   1.098612      Smart  \n",
       "6216     11.105    NaN              11.082143        NaN  Hindustan  "
      ]
     },
     "execution_count": 69,
     "metadata": {},
     "output_type": "execute_result"
    }
   ],
   "source": [
    "data.loc[data['Power'].isnull()]"
   ]
  },
  {
   "cell_type": "code",
   "execution_count": 70,
   "id": "a430830e",
   "metadata": {},
   "outputs": [
    {
     "data": {
      "text/html": [
       "<div>\n",
       "<style scoped>\n",
       "    .dataframe tbody tr th:only-of-type {\n",
       "        vertical-align: middle;\n",
       "    }\n",
       "\n",
       "    .dataframe tbody tr th {\n",
       "        vertical-align: top;\n",
       "    }\n",
       "\n",
       "    .dataframe thead th {\n",
       "        text-align: right;\n",
       "    }\n",
       "</style>\n",
       "<table border=\"1\" class=\"dataframe\">\n",
       "  <thead>\n",
       "    <tr style=\"text-align: right;\">\n",
       "      <th></th>\n",
       "      <th>Name</th>\n",
       "      <th>Location</th>\n",
       "      <th>Year</th>\n",
       "      <th>Kilometers_Driven</th>\n",
       "      <th>Fuel_Type</th>\n",
       "      <th>Transmission</th>\n",
       "      <th>Owner_Type</th>\n",
       "      <th>Mileage</th>\n",
       "      <th>Engine</th>\n",
       "      <th>Power</th>\n",
       "      <th>Seats</th>\n",
       "      <th>New_price</th>\n",
       "      <th>Price</th>\n",
       "      <th>kilometers_driven_log</th>\n",
       "      <th>price_log</th>\n",
       "      <th>Brand</th>\n",
       "    </tr>\n",
       "  </thead>\n",
       "  <tbody>\n",
       "    <tr>\n",
       "      <th>915</th>\n",
       "      <td>Smart Fortwo CDI AT</td>\n",
       "      <td>Pune</td>\n",
       "      <td>2008</td>\n",
       "      <td>103000</td>\n",
       "      <td>Diesel</td>\n",
       "      <td>Automatic</td>\n",
       "      <td>Second</td>\n",
       "      <td>0.0</td>\n",
       "      <td>799.0</td>\n",
       "      <td>NaN</td>\n",
       "      <td>2.0</td>\n",
       "      <td>11.105</td>\n",
       "      <td>3.0</td>\n",
       "      <td>11.542484</td>\n",
       "      <td>1.098612</td>\n",
       "      <td>Smart</td>\n",
       "    </tr>\n",
       "  </tbody>\n",
       "</table>\n",
       "</div>"
      ],
      "text/plain": [
       "                    Name Location  Year  Kilometers_Driven Fuel_Type  \\\n",
       "915  Smart Fortwo CDI AT     Pune  2008             103000    Diesel   \n",
       "\n",
       "    Transmission Owner_Type  Mileage  Engine  Power  Seats  New_price  Price  \\\n",
       "915    Automatic     Second      0.0   799.0    NaN    2.0     11.105    3.0   \n",
       "\n",
       "     kilometers_driven_log  price_log  Brand  \n",
       "915              11.542484   1.098612  Smart  "
      ]
     },
     "execution_count": 70,
     "metadata": {},
     "output_type": "execute_result"
    }
   ],
   "source": [
    "data.loc[data['Brand'] == 'Smart']"
   ]
  },
  {
   "cell_type": "code",
   "execution_count": 71,
   "id": "b1497206",
   "metadata": {},
   "outputs": [
    {
     "data": {
      "text/html": [
       "<div>\n",
       "<style scoped>\n",
       "    .dataframe tbody tr th:only-of-type {\n",
       "        vertical-align: middle;\n",
       "    }\n",
       "\n",
       "    .dataframe tbody tr th {\n",
       "        vertical-align: top;\n",
       "    }\n",
       "\n",
       "    .dataframe thead th {\n",
       "        text-align: right;\n",
       "    }\n",
       "</style>\n",
       "<table border=\"1\" class=\"dataframe\">\n",
       "  <thead>\n",
       "    <tr style=\"text-align: right;\">\n",
       "      <th></th>\n",
       "      <th>Name</th>\n",
       "      <th>Location</th>\n",
       "      <th>Year</th>\n",
       "      <th>Kilometers_Driven</th>\n",
       "      <th>Fuel_Type</th>\n",
       "      <th>Transmission</th>\n",
       "      <th>Owner_Type</th>\n",
       "      <th>Mileage</th>\n",
       "      <th>Engine</th>\n",
       "      <th>Power</th>\n",
       "      <th>Seats</th>\n",
       "      <th>New_price</th>\n",
       "      <th>Price</th>\n",
       "      <th>kilometers_driven_log</th>\n",
       "      <th>price_log</th>\n",
       "      <th>Brand</th>\n",
       "    </tr>\n",
       "  </thead>\n",
       "  <tbody>\n",
       "    <tr>\n",
       "      <th>6216</th>\n",
       "      <td>Hindustan Motors Contessa 2.0 DSL</td>\n",
       "      <td>Pune</td>\n",
       "      <td>1996</td>\n",
       "      <td>65000</td>\n",
       "      <td>Diesel</td>\n",
       "      <td>Manual</td>\n",
       "      <td>Second</td>\n",
       "      <td>14.1</td>\n",
       "      <td>1995.0</td>\n",
       "      <td>NaN</td>\n",
       "      <td>5.0</td>\n",
       "      <td>11.105</td>\n",
       "      <td>NaN</td>\n",
       "      <td>11.082143</td>\n",
       "      <td>NaN</td>\n",
       "      <td>Hindustan</td>\n",
       "    </tr>\n",
       "  </tbody>\n",
       "</table>\n",
       "</div>"
      ],
      "text/plain": [
       "                                   Name Location  Year  Kilometers_Driven  \\\n",
       "6216  Hindustan Motors Contessa 2.0 DSL     Pune  1996              65000   \n",
       "\n",
       "     Fuel_Type Transmission Owner_Type  Mileage  Engine  Power  Seats  \\\n",
       "6216    Diesel       Manual     Second     14.1  1995.0    NaN    5.0   \n",
       "\n",
       "      New_price  Price  kilometers_driven_log  price_log      Brand  \n",
       "6216     11.105    NaN              11.082143        NaN  Hindustan  "
      ]
     },
     "execution_count": 71,
     "metadata": {},
     "output_type": "execute_result"
    }
   ],
   "source": [
    "data.loc[data['Brand'] == 'Hindustan']"
   ]
  },
  {
   "cell_type": "markdown",
   "id": "54b9e817",
   "metadata": {},
   "source": [
    "**Observations for missing values after imputing:**\n",
    "- Missing values for most attributes were able to be filled in with medians of previous data.\n",
    "- The only missing value that could not be completely filled in with previous data is New_price and Power.\n",
    "- For New_price, specifically Chevrolet brand cars have no filled values. It is likely then that none of the Chevrolet cars in the dataset have New_price data. They have been filled in with the median of New_price.\n",
    "- For Power, there are only two values that have not been filled, and it is because there is only one car for each brand in the dataset, so there are no previous values to go off of.\n",
    "- It is probably fine if we drop those two rows, as they might not be all that useful."
   ]
  },
  {
   "cell_type": "code",
   "execution_count": 72,
   "id": "9c545286",
   "metadata": {},
   "outputs": [],
   "source": [
    "data.drop(915, inplace = True)\n",
    "data.drop(6216, inplace = True)"
   ]
  },
  {
   "cell_type": "code",
   "execution_count": 73,
   "id": "e554bb3e",
   "metadata": {},
   "outputs": [
    {
     "data": {
      "text/plain": [
       "Name                        0\n",
       "Location                    0\n",
       "Year                        0\n",
       "Kilometers_Driven           0\n",
       "Fuel_Type                   0\n",
       "Transmission                0\n",
       "Owner_Type                  0\n",
       "Mileage                     0\n",
       "Engine                      0\n",
       "Power                       0\n",
       "Seats                       0\n",
       "New_price                   0\n",
       "Price                    1233\n",
       "kilometers_driven_log       0\n",
       "price_log                1233\n",
       "Brand                       0\n",
       "dtype: int64"
      ]
     },
     "execution_count": 73,
     "metadata": {},
     "output_type": "execute_result"
    }
   ],
   "source": [
    "data.isnull().sum()"
   ]
  },
  {
   "cell_type": "markdown",
   "id": "f3560a9f",
   "metadata": {},
   "source": [
    "## **Proposed approach**\n",
    "\n",
    "**Potential techniques -**\n",
    "- We will use different approaches to build our model and see which model performs the best.\n",
    "- An approach could be using linear regression, and implementing ways to prevent overfitting, such as lassoing.\n",
    "- We could also use decision trees/random forests to see if that could be a potential solution as well.\n",
    "\n",
    "**Overall solution design -**\n",
    "- Our goal is to create a model that can predict the price of used cars.\n",
    "- To do so, we can construct models based on the techniques above and determine which model is the best performing.\n",
    "- We will do this by splitting the data that we haved cleaned into test and train data, building the model based on the train data and testing the created model on the test data to see how well it performs.\n",
    "\n",
    "**Measures of success -**\n",
    "- In creating a model, we must ensure that the model performs well on both the train and test data. It must not overfit on the training data and thus perform poorly on test data.\n",
    "- The model must take into account the various features of the car in order to make its prediction, adding more weight to more important features."
   ]
  },
  {
   "cell_type": "markdown",
   "id": "3eaad7c2",
   "metadata": {},
   "source": [
    "### **Saving the Data**"
   ]
  },
  {
   "cell_type": "code",
   "execution_count": 74,
   "id": "e1dc5b02",
   "metadata": {},
   "outputs": [],
   "source": [
    "df_cleaned = data.copy()"
   ]
  },
  {
   "cell_type": "markdown",
   "id": "1e354f77",
   "metadata": {},
   "source": [
    "## **Model Building**\n",
    "\n",
    "1. What we want to predict is the \"Price\". We will use the normalized version 'price_log' for modeling.\n",
    "2. Before we proceed to the model, we'll have to encode categorical features. We will drop categorical features like Name. \n",
    "3. We'll split the data into train and test, to be able to evaluate the model that we build on the train data.\n",
    "4. Build Regression models using train data.\n",
    "5. Evaluate the model performance."
   ]
  },
  {
   "cell_type": "code",
   "execution_count": 75,
   "id": "3f25aa20",
   "metadata": {},
   "outputs": [],
   "source": [
    "cars_data = df_cleaned"
   ]
  },
  {
   "cell_type": "markdown",
   "id": "e13d61fe",
   "metadata": {},
   "source": [
    "### **Dropping Null Values**"
   ]
  },
  {
   "cell_type": "code",
   "execution_count": 76,
   "id": "8a052e1e",
   "metadata": {},
   "outputs": [
    {
     "data": {
      "text/plain": [
       "Name                        0\n",
       "Location                    0\n",
       "Year                        0\n",
       "Kilometers_Driven           0\n",
       "Fuel_Type                   0\n",
       "Transmission                0\n",
       "Owner_Type                  0\n",
       "Mileage                     0\n",
       "Engine                      0\n",
       "Power                       0\n",
       "Seats                       0\n",
       "New_price                   0\n",
       "Price                    1233\n",
       "kilometers_driven_log       0\n",
       "price_log                1233\n",
       "Brand                       0\n",
       "dtype: int64"
      ]
     },
     "execution_count": 76,
     "metadata": {},
     "output_type": "execute_result"
    }
   ],
   "source": [
    "cars_data.isnull().sum()"
   ]
  },
  {
   "cell_type": "code",
   "execution_count": 77,
   "id": "87a8151c",
   "metadata": {},
   "outputs": [],
   "source": [
    "cars_data.dropna(inplace = True)"
   ]
  },
  {
   "cell_type": "code",
   "execution_count": 78,
   "id": "b7170d78",
   "metadata": {},
   "outputs": [
    {
     "data": {
      "text/plain": [
       "Name                     0\n",
       "Location                 0\n",
       "Year                     0\n",
       "Kilometers_Driven        0\n",
       "Fuel_Type                0\n",
       "Transmission             0\n",
       "Owner_Type               0\n",
       "Mileage                  0\n",
       "Engine                   0\n",
       "Power                    0\n",
       "Seats                    0\n",
       "New_price                0\n",
       "Price                    0\n",
       "kilometers_driven_log    0\n",
       "price_log                0\n",
       "Brand                    0\n",
       "dtype: int64"
      ]
     },
     "execution_count": 78,
     "metadata": {},
     "output_type": "execute_result"
    }
   ],
   "source": [
    "cars_data.isnull().sum()"
   ]
  },
  {
   "cell_type": "markdown",
   "id": "185af002",
   "metadata": {},
   "source": [
    "### **Split the Data**"
   ]
  },
  {
   "cell_type": "markdown",
   "id": "80a121e0",
   "metadata": {},
   "source": [
    "1. First we will separate the features (X) from the output variable (y)\n",
    "2. Then we will encode the categorical variables in X\n",
    "3. Finally we will split the data into train and test sets"
   ]
  },
  {
   "cell_type": "code",
   "execution_count": 79,
   "id": "dc40538c",
   "metadata": {},
   "outputs": [],
   "source": [
    "X = cars_data.drop(['Name','Price','price_log','Kilometers_Driven'], axis = 1)\n",
    "\n",
    "y = cars_data[[\"price_log\", \"Price\"]]"
   ]
  },
  {
   "cell_type": "code",
   "execution_count": 80,
   "id": "92e0c6e5",
   "metadata": {},
   "outputs": [],
   "source": [
    "X = pd.get_dummies(X, drop_first = True)"
   ]
  },
  {
   "cell_type": "code",
   "execution_count": 81,
   "id": "07f11185",
   "metadata": {},
   "outputs": [
    {
     "name": "stdout",
     "output_type": "stream",
     "text": [
      "(4211, 53) (1806, 53)\n"
     ]
    }
   ],
   "source": [
    "from sklearn.model_selection import train_test_split\n",
    "\n",
    "X_train, X_test, y_train, y_test = train_test_split(X, y, test_size = 0.3, random_state = 1)\n",
    "\n",
    "print(X_train.shape, X_test.shape)"
   ]
  },
  {
   "cell_type": "code",
   "execution_count": 82,
   "id": "ac769222",
   "metadata": {},
   "outputs": [],
   "source": [
    "# Adapted from MIT and Great Learning\n",
    "# This function takes model as an input on which we have trained particular algorithm\n",
    "# The categorical column as the input and returns the boxplots and histograms for the variable\n",
    "import sklearn.metrics as metrics\n",
    "\n",
    "def get_model_score(model, flag = True):\n",
    "    '''\n",
    "    model : regressor to predict values of X\n",
    "\n",
    "    '''\n",
    "    # Defining an empty list to store train and test results\n",
    "    score_list = [] \n",
    "    \n",
    "    pred_train = model.predict(X_train)\n",
    "    \n",
    "    pred_train_ = np.exp(pred_train)\n",
    "    \n",
    "    pred_test = model.predict(X_test)\n",
    "    \n",
    "    pred_test_ = np.exp(pred_test)\n",
    "    \n",
    "    train_r2 = metrics.r2_score(y_train['Price'], pred_train_)\n",
    "    \n",
    "    test_r2 = metrics.r2_score(y_test['Price'], pred_test_)\n",
    "    \n",
    "    train_rmse = metrics.mean_squared_error(y_train['Price'], pred_train_, squared = False)\n",
    "    \n",
    "    test_rmse = metrics.mean_squared_error(y_test['Price'], pred_test_, squared = False)\n",
    "    \n",
    "    # Adding all scores in the list\n",
    "    score_list.extend((train_r2, test_r2, train_rmse, test_rmse))\n",
    "    \n",
    "    # If the flag is set to True then only the following print statements will be dispayed, the default value is True\n",
    "    if flag == True: \n",
    "        \n",
    "        print(\"R-sqaure on training set : \", metrics.r2_score(y_train['Price'], pred_train_))\n",
    "        \n",
    "        print(\"R-square on test set : \", metrics.r2_score(y_test['Price'], pred_test_))\n",
    "        \n",
    "        print(\"RMSE on training set : \", np.sqrt(metrics.mean_squared_error(y_train['Price'], pred_train_)))\n",
    "        \n",
    "        print(\"RMSE on test set : \", np.sqrt(metrics.mean_squared_error(y_test['Price'], pred_test_)))\n",
    "    \n",
    "    # Returning the list with train and test scores\n",
    "    return score_list"
   ]
  },
  {
   "cell_type": "markdown",
   "id": "d5ff7a65",
   "metadata": {},
   "source": [
    "The models we will train our data on are:<br>\n",
    "\n",
    "**1) Linear Regression** <br>\n",
    "**2) Ridge / Lasso Regression** <br>\n",
    "**3) Decision Trees** <br>\n",
    "**4) Random Forest** <br>"
   ]
  },
  {
   "cell_type": "markdown",
   "id": "8faf778e",
   "metadata": {},
   "source": [
    "### **Fitting a linear regression model**"
   ]
  },
  {
   "cell_type": "code",
   "execution_count": 83,
   "id": "f094ee87",
   "metadata": {},
   "outputs": [],
   "source": [
    "from sklearn.linear_model import LinearRegression\n",
    "import numpy as np"
   ]
  },
  {
   "cell_type": "code",
   "execution_count": 84,
   "id": "56c4db24",
   "metadata": {},
   "outputs": [
    {
     "name": "stdout",
     "output_type": "stream",
     "text": [
      "R-sqaure on training set :  0.8533233029462108\n",
      "R-square on test set :  0.8777300429946745\n",
      "RMSE on training set :  4.301867152502498\n",
      "RMSE on test set :  3.848729881957821\n"
     ]
    }
   ],
   "source": [
    "lr = LinearRegression()\n",
    "lr.fit(X_train, y_train['price_log'])\n",
    "\n",
    "LR_score = get_model_score(lr)"
   ]
  },
  {
   "cell_type": "markdown",
   "id": "22c4a197",
   "metadata": {},
   "source": [
    "**Observations from results:**\n",
    "- R-squared score on both training and test set are pretty good, with the model performing similarly well on both.\n",
    "- Root-mean-squared error is also relatively close for both sets.\n",
    "- Curiously, the model seems to do better on the test set."
   ]
  },
  {
   "cell_type": "code",
   "execution_count": 85,
   "id": "eb4ea564",
   "metadata": {},
   "outputs": [
    {
     "name": "stdout",
     "output_type": "stream",
     "text": [
      "                            OLS Regression Results                            \n",
      "==============================================================================\n",
      "Dep. Variable:              price_log   R-squared:                       0.927\n",
      "Model:                            OLS   Adj. R-squared:                  0.926\n",
      "Method:                 Least Squares   F-statistic:                     994.5\n",
      "Date:                Wed, 15 Mar 2023   Prob (F-statistic):               0.00\n",
      "Time:                        14:58:01   Log-Likelihood:                 72.745\n",
      "No. Observations:                4211   AIC:                            -37.49\n",
      "Df Residuals:                    4157   BIC:                             305.2\n",
      "Df Model:                          53                                         \n",
      "Covariance Type:            nonrobust                                         \n",
      "=============================================================================================\n",
      "                                coef    std err          t      P>|t|      [0.025      0.975]\n",
      "---------------------------------------------------------------------------------------------\n",
      "const                      -239.2000      3.379    -70.800      0.000    -245.824    -232.576\n",
      "Year                          0.1196      0.002     71.866      0.000       0.116       0.123\n",
      "Mileage                      -0.0111      0.001     -8.020      0.000      -0.014      -0.008\n",
      "Engine                        0.0002   1.98e-05      8.880      0.000       0.000       0.000\n",
      "Power                         0.0050      0.000     23.084      0.000       0.005       0.005\n",
      "Seats                         0.0522      0.007      7.288      0.000       0.038       0.066\n",
      "New_price                     0.0025      0.001      3.179      0.001       0.001       0.004\n",
      "kilometers_driven_log        -0.0640      0.007     -9.288      0.000      -0.078      -0.050\n",
      "Location_Bangalore            0.1669      0.024      6.830      0.000       0.119       0.215\n",
      "Location_Chennai              0.0337      0.023      1.456      0.146      -0.012       0.079\n",
      "Location_Coimbatore           0.0984      0.022      4.405      0.000       0.055       0.142\n",
      "Location_Delhi               -0.0543      0.023     -2.392      0.017      -0.099      -0.010\n",
      "Location_Hyderabad            0.1224      0.022      5.626      0.000       0.080       0.165\n",
      "Location_Jaipur              -0.0681      0.024     -2.875      0.004      -0.115      -0.022\n",
      "Location_Kochi               -0.0274      0.022     -1.227      0.220      -0.071       0.016\n",
      "Location_Kolkata             -0.2316      0.023    -10.181      0.000      -0.276      -0.187\n",
      "Location_Mumbai              -0.0431      0.022     -1.982      0.048      -0.086      -0.000\n",
      "Location_Pune                -0.0356      0.022     -1.593      0.111      -0.079       0.008\n",
      "Fuel_Type_Diesel              0.2267      0.040      5.680      0.000       0.148       0.305\n",
      "Fuel_Type_Electric            1.0501      0.244      4.306      0.000       0.572       1.528\n",
      "Fuel_Type_LPG                -0.1003      0.099     -1.012      0.311      -0.295       0.094\n",
      "Fuel_Type_Petrol             -0.0423      0.040     -1.044      0.297      -0.122       0.037\n",
      "Transmission_Manual          -0.1138      0.012     -9.305      0.000      -0.138      -0.090\n",
      "Owner_Type_Fourth & Above     0.0604      0.086      0.705      0.481      -0.107       0.228\n",
      "Owner_Type_Second            -0.0703      0.011     -6.383      0.000      -0.092      -0.049\n",
      "Owner_Type_Third             -0.1223      0.028     -4.398      0.000      -0.177      -0.068\n",
      "Brand_Audi                    0.3083      0.245      1.259      0.208      -0.172       0.788\n",
      "Brand_BMW                     0.2793      0.245      1.140      0.254      -0.201       0.760\n",
      "Brand_Bentley                -0.9581      0.438     -2.186      0.029      -1.817      -0.099\n",
      "Brand_Chevrolet              -0.4761      0.243     -1.961      0.050      -0.952      -0.000\n",
      "Brand_Datsun                 -0.6495      0.254     -2.561      0.010      -1.147      -0.152\n",
      "Brand_Fiat                   -0.5050      0.248     -2.033      0.042      -0.992      -0.018\n",
      "Brand_Force                  -0.0567      0.295     -0.192      0.848      -0.636       0.522\n",
      "Brand_Ford                   -0.2557      0.242     -1.057      0.291      -0.730       0.219\n",
      "Brand_Honda                  -0.1190      0.242     -0.492      0.623      -0.593       0.355\n",
      "Brand_Hyundai                -0.1756      0.242     -0.726      0.468      -0.650       0.298\n",
      "Brand_Isuzu                  -0.4417      0.279     -1.583      0.114      -0.989       0.105\n",
      "Brand_Jaguar                  0.3020      0.248      1.219      0.223      -0.184       0.788\n",
      "Brand_Jeep                    0.0121      0.254      0.048      0.962      -0.485       0.510\n",
      "Brand_Lamborghini             0.4170      0.347      1.202      0.229      -0.263       1.097\n",
      "Brand_Land Rover              0.4133      0.258      1.600      0.110      -0.093       0.920\n",
      "Brand_Mahindra               -0.3366      0.242     -1.388      0.165      -0.812       0.139\n",
      "Brand_Maruti                 -0.1777      0.242     -0.735      0.462      -0.652       0.296\n",
      "Brand_Mercedes-Benz           0.2737      0.247      1.107      0.268      -0.211       0.758\n",
      "Brand_Mini                    0.7827      0.248      3.151      0.002       0.296       1.270\n",
      "Brand_Mitsubishi              0.0015      0.247      0.006      0.995      -0.483       0.486\n",
      "Brand_Nissan                 -0.1969      0.243     -0.809      0.418      -0.674       0.280\n",
      "Brand_Porsche                -0.3041      0.268     -1.133      0.257      -0.830       0.222\n",
      "Brand_Renault                -0.2183      0.243     -0.899      0.369      -0.694       0.258\n",
      "Brand_Skoda                  -0.1352      0.243     -0.557      0.578      -0.611       0.341\n",
      "Brand_Tata                   -0.6683      0.242     -2.757      0.006      -1.144      -0.193\n",
      "Brand_Toyota                 -0.0031      0.242     -0.013      0.990      -0.478       0.472\n",
      "Brand_Volkswagen             -0.1879      0.242     -0.777      0.437      -0.662       0.286\n",
      "Brand_Volvo                   0.1342      0.253      0.531      0.596      -0.361       0.630\n",
      "==============================================================================\n",
      "Omnibus:                     1196.992   Durbin-Watson:                   2.033\n",
      "Prob(Omnibus):                  0.000   Jarque-Bera (JB):            20347.402\n",
      "Skew:                          -0.904   Prob(JB):                         0.00\n",
      "Kurtosis:                      13.616   Cond. No.                     2.39e+06\n",
      "==============================================================================\n",
      "\n",
      "Notes:\n",
      "[1] Standard Errors assume that the covariance matrix of the errors is correctly specified.\n",
      "[2] The condition number is large, 2.39e+06. This might indicate that there are\n",
      "strong multicollinearity or other numerical problems.\n"
     ]
    }
   ],
   "source": [
    "# Import Statsmodels \n",
    "import statsmodels.api as sm\n",
    "\n",
    "# Add constant to train data\n",
    "x_train = sm.add_constant(X_train)\n",
    "\n",
    "# Add constant to test data\n",
    "x_test = sm.add_constant(X_test)\n",
    "\n",
    "def build_ols_model(train):\n",
    "    \n",
    "    # Create the model\n",
    "    olsmodel = sm.OLS(y_train[\"price_log\"], train)\n",
    "    \n",
    "    return olsmodel.fit()\n",
    "\n",
    "\n",
    "# Fit linear model on new dataset\n",
    "olsmodel1 = build_ols_model(x_train)\n",
    "\n",
    "print(olsmodel1.summary())"
   ]
  },
  {
   "cell_type": "code",
   "execution_count": 86,
   "id": "01153f48",
   "metadata": {},
   "outputs": [],
   "source": [
    "# Retrive Coeff values, p-values and store them in the dataframe\n",
    "olsmod = pd.DataFrame(olsmodel1.params, columns = ['coef'])\n",
    "\n",
    "olsmod['pval'] = olsmodel1.pvalues"
   ]
  },
  {
   "cell_type": "code",
   "execution_count": 87,
   "id": "4d0bd8f8",
   "metadata": {},
   "outputs": [
    {
     "data": {
      "text/html": [
       "<div>\n",
       "<style scoped>\n",
       "    .dataframe tbody tr th:only-of-type {\n",
       "        vertical-align: middle;\n",
       "    }\n",
       "\n",
       "    .dataframe tbody tr th {\n",
       "        vertical-align: top;\n",
       "    }\n",
       "\n",
       "    .dataframe thead th {\n",
       "        text-align: right;\n",
       "    }\n",
       "</style>\n",
       "<table border=\"1\" class=\"dataframe\">\n",
       "  <thead>\n",
       "    <tr style=\"text-align: right;\">\n",
       "      <th></th>\n",
       "      <th>coef</th>\n",
       "      <th>pval</th>\n",
       "    </tr>\n",
       "  </thead>\n",
       "  <tbody>\n",
       "    <tr>\n",
       "      <th>Brand_Chevrolet</th>\n",
       "      <td>-0.476051</td>\n",
       "      <td>4.995033e-02</td>\n",
       "    </tr>\n",
       "    <tr>\n",
       "      <th>Location_Mumbai</th>\n",
       "      <td>-0.043084</td>\n",
       "      <td>4.751270e-02</td>\n",
       "    </tr>\n",
       "    <tr>\n",
       "      <th>Brand_Fiat</th>\n",
       "      <td>-0.504980</td>\n",
       "      <td>4.209457e-02</td>\n",
       "    </tr>\n",
       "    <tr>\n",
       "      <th>Brand_Bentley</th>\n",
       "      <td>-0.958115</td>\n",
       "      <td>2.888168e-02</td>\n",
       "    </tr>\n",
       "    <tr>\n",
       "      <th>Location_Delhi</th>\n",
       "      <td>-0.054294</td>\n",
       "      <td>1.678818e-02</td>\n",
       "    </tr>\n",
       "    <tr>\n",
       "      <th>Brand_Datsun</th>\n",
       "      <td>-0.649514</td>\n",
       "      <td>1.046978e-02</td>\n",
       "    </tr>\n",
       "    <tr>\n",
       "      <th>Brand_Tata</th>\n",
       "      <td>-0.668316</td>\n",
       "      <td>5.858901e-03</td>\n",
       "    </tr>\n",
       "    <tr>\n",
       "      <th>Location_Jaipur</th>\n",
       "      <td>-0.068133</td>\n",
       "      <td>4.059150e-03</td>\n",
       "    </tr>\n",
       "    <tr>\n",
       "      <th>Brand_Mini</th>\n",
       "      <td>0.782652</td>\n",
       "      <td>1.637906e-03</td>\n",
       "    </tr>\n",
       "    <tr>\n",
       "      <th>New_price</th>\n",
       "      <td>0.002508</td>\n",
       "      <td>1.488049e-03</td>\n",
       "    </tr>\n",
       "    <tr>\n",
       "      <th>Fuel_Type_Electric</th>\n",
       "      <td>1.050069</td>\n",
       "      <td>1.697578e-05</td>\n",
       "    </tr>\n",
       "    <tr>\n",
       "      <th>Owner_Type_Third</th>\n",
       "      <td>-0.122330</td>\n",
       "      <td>1.119997e-05</td>\n",
       "    </tr>\n",
       "    <tr>\n",
       "      <th>Location_Coimbatore</th>\n",
       "      <td>0.098411</td>\n",
       "      <td>1.082335e-05</td>\n",
       "    </tr>\n",
       "    <tr>\n",
       "      <th>Location_Hyderabad</th>\n",
       "      <td>0.122379</td>\n",
       "      <td>1.965828e-08</td>\n",
       "    </tr>\n",
       "    <tr>\n",
       "      <th>Fuel_Type_Diesel</th>\n",
       "      <td>0.226686</td>\n",
       "      <td>1.439728e-08</td>\n",
       "    </tr>\n",
       "    <tr>\n",
       "      <th>Owner_Type_Second</th>\n",
       "      <td>-0.070338</td>\n",
       "      <td>1.927197e-10</td>\n",
       "    </tr>\n",
       "    <tr>\n",
       "      <th>Location_Bangalore</th>\n",
       "      <td>0.166873</td>\n",
       "      <td>9.752436e-12</td>\n",
       "    </tr>\n",
       "    <tr>\n",
       "      <th>Seats</th>\n",
       "      <td>0.052164</td>\n",
       "      <td>3.740288e-13</td>\n",
       "    </tr>\n",
       "    <tr>\n",
       "      <th>Mileage</th>\n",
       "      <td>-0.011148</td>\n",
       "      <td>1.362990e-15</td>\n",
       "    </tr>\n",
       "    <tr>\n",
       "      <th>Engine</th>\n",
       "      <td>0.000176</td>\n",
       "      <td>9.799246e-19</td>\n",
       "    </tr>\n",
       "    <tr>\n",
       "      <th>kilometers_driven_log</th>\n",
       "      <td>-0.063998</td>\n",
       "      <td>2.461069e-20</td>\n",
       "    </tr>\n",
       "    <tr>\n",
       "      <th>Transmission_Manual</th>\n",
       "      <td>-0.113818</td>\n",
       "      <td>2.109449e-20</td>\n",
       "    </tr>\n",
       "    <tr>\n",
       "      <th>Location_Kolkata</th>\n",
       "      <td>-0.231606</td>\n",
       "      <td>4.593825e-24</td>\n",
       "    </tr>\n",
       "    <tr>\n",
       "      <th>Power</th>\n",
       "      <td>0.005009</td>\n",
       "      <td>4.944591e-111</td>\n",
       "    </tr>\n",
       "    <tr>\n",
       "      <th>Year</th>\n",
       "      <td>0.119627</td>\n",
       "      <td>0.000000e+00</td>\n",
       "    </tr>\n",
       "    <tr>\n",
       "      <th>const</th>\n",
       "      <td>-239.200028</td>\n",
       "      <td>0.000000e+00</td>\n",
       "    </tr>\n",
       "  </tbody>\n",
       "</table>\n",
       "</div>"
      ],
      "text/plain": [
       "                             coef           pval\n",
       "Brand_Chevrolet         -0.476051   4.995033e-02\n",
       "Location_Mumbai         -0.043084   4.751270e-02\n",
       "Brand_Fiat              -0.504980   4.209457e-02\n",
       "Brand_Bentley           -0.958115   2.888168e-02\n",
       "Location_Delhi          -0.054294   1.678818e-02\n",
       "Brand_Datsun            -0.649514   1.046978e-02\n",
       "Brand_Tata              -0.668316   5.858901e-03\n",
       "Location_Jaipur         -0.068133   4.059150e-03\n",
       "Brand_Mini               0.782652   1.637906e-03\n",
       "New_price                0.002508   1.488049e-03\n",
       "Fuel_Type_Electric       1.050069   1.697578e-05\n",
       "Owner_Type_Third        -0.122330   1.119997e-05\n",
       "Location_Coimbatore      0.098411   1.082335e-05\n",
       "Location_Hyderabad       0.122379   1.965828e-08\n",
       "Fuel_Type_Diesel         0.226686   1.439728e-08\n",
       "Owner_Type_Second       -0.070338   1.927197e-10\n",
       "Location_Bangalore       0.166873   9.752436e-12\n",
       "Seats                    0.052164   3.740288e-13\n",
       "Mileage                 -0.011148   1.362990e-15\n",
       "Engine                   0.000176   9.799246e-19\n",
       "kilometers_driven_log   -0.063998   2.461069e-20\n",
       "Transmission_Manual     -0.113818   2.109449e-20\n",
       "Location_Kolkata        -0.231606   4.593825e-24\n",
       "Power                    0.005009  4.944591e-111\n",
       "Year                     0.119627   0.000000e+00\n",
       "const                 -239.200028   0.000000e+00"
      ]
     },
     "execution_count": 87,
     "metadata": {},
     "output_type": "execute_result"
    }
   ],
   "source": [
    "# Filter by significant p-value (pval <= 0.05) and sort descending by Odds ratio\n",
    "\n",
    "olsmod = olsmod.sort_values(by = \"pval\", ascending = False)\n",
    "\n",
    "pval_filter = olsmod['pval']<= 0.05\n",
    "\n",
    "olsmod[pval_filter]"
   ]
  },
  {
   "cell_type": "code",
   "execution_count": 88,
   "id": "063c2aff",
   "metadata": {},
   "outputs": [
    {
     "name": "stdout",
     "output_type": "stream",
     "text": [
      "\u001b[1mMost overall significant categorical varaibles of LINEAR REGRESSION  are \u001b[95m :\n",
      " ['Brand', 'Location', 'New_price', 'Fuel_Type', 'Owner_Type', 'Seats', 'Mileage', 'Engine', 'kilometers_driven_log', 'Transmission', 'Power', 'Year']\n"
     ]
    }
   ],
   "source": [
    "# We are looking are overall significant varaible\n",
    "\n",
    "pval_filter = olsmod['pval']<= 0.05\n",
    "imp_vars = olsmod[pval_filter].index.tolist()\n",
    "\n",
    "# We are going to get overall varaibles (un-one-hot encoded varables) from categorical varaibles\n",
    "sig_var = []\n",
    "for col in imp_vars:\n",
    "    if '' in col:\n",
    "        first_part = col.split('_')[0]\n",
    "        for c in cars_data.columns:\n",
    "            if first_part in c and c not in sig_var :\n",
    "                sig_var.append(c)\n",
    "\n",
    "                \n",
    "start = '\\033[1m'\n",
    "end = '\\033[95m'\n",
    "print(start+ 'Most overall significant categorical varaibles of LINEAR REGRESSION  are ' +end,':\\n', sig_var)"
   ]
  },
  {
   "cell_type": "markdown",
   "id": "b4d27734",
   "metadata": {},
   "source": [
    "### **Ridge Regression**"
   ]
  },
  {
   "cell_type": "code",
   "execution_count": 89,
   "id": "0b384d0d",
   "metadata": {},
   "outputs": [
    {
     "name": "stdout",
     "output_type": "stream",
     "text": [
      "R-sqaure on training set :  0.8504003652640479\n",
      "R-square on test set :  0.8780879991604287\n",
      "RMSE on training set :  4.344518994976142\n",
      "RMSE on test set :  3.843092003194803\n"
     ]
    }
   ],
   "source": [
    "from sklearn.linear_model import Ridge\n",
    "ridge = Ridge(alpha=1.0)\n",
    "ridge.fit(X_train, y_train['price_log'])\n",
    "\n",
    "ridge_score = get_model_score(ridge)"
   ]
  },
  {
   "cell_type": "markdown",
   "id": "78cb575a",
   "metadata": {},
   "source": [
    "**Observations from results:**\n",
    "- The ridge regression model performs similarly to linear regression, with extremely similar performances on training and testing sets.\n",
    "- Like linear regression, the test set performs slightly better, although the differences between training and testing performances are small."
   ]
  },
  {
   "cell_type": "markdown",
   "id": "857fc8e7",
   "metadata": {},
   "source": [
    "### **Decision Tree** "
   ]
  },
  {
   "cell_type": "code",
   "execution_count": 90,
   "id": "78d69952",
   "metadata": {},
   "outputs": [
    {
     "name": "stdout",
     "output_type": "stream",
     "text": [
      "R-sqaure on training set :  0.9999987364510128\n",
      "R-square on test set :  0.8650495196746861\n",
      "RMSE on training set :  0.012626194519501388\n",
      "RMSE on test set :  4.043381962405975\n"
     ]
    },
    {
     "data": {
      "text/plain": [
       "[0.9999987364510128,\n",
       " 0.8650495196746861,\n",
       " 0.012626194519501388,\n",
       " 4.043381962405975]"
      ]
     },
     "execution_count": 90,
     "metadata": {},
     "output_type": "execute_result"
    }
   ],
   "source": [
    "from sklearn.tree import DecisionTreeRegressor\n",
    "dtree = DecisionTreeRegressor(random_state = 1)\n",
    "dtree.fit(X_train, y_train[\"price_log\"])\n",
    "\n",
    "get_model_score(dtree)"
   ]
  },
  {
   "cell_type": "markdown",
   "id": "6a97a78e",
   "metadata": {},
   "source": [
    "**Observations from results:**\n",
    "- Model performs extremely well on training set, with an r-squared of almost 1 and RMSE of almost 0.\n",
    "- However, it doesn't perform as well on the test set, indicating the model might be overfitting on the training data.\n",
    "- Score on test set is similar to that of linear and ridge regression."
   ]
  },
  {
   "cell_type": "markdown",
   "id": "ae58f887",
   "metadata": {},
   "source": [
    "Let's look at the Gini importance of each feature in the tree"
   ]
  },
  {
   "cell_type": "code",
   "execution_count": 91,
   "id": "10cce3a5",
   "metadata": {},
   "outputs": [
    {
     "name": "stdout",
     "output_type": "stream",
     "text": [
      "                           dtree_Imp\n",
      "Power                       0.593315\n",
      "Year                        0.236308\n",
      "New_price                   0.075947\n",
      "Engine                      0.021076\n",
      "kilometers_driven_log       0.014565\n",
      "Mileage                     0.010532\n",
      "Seats                       0.005761\n",
      "Brand_Tata                  0.004991\n",
      "Location_Kolkata            0.004512\n",
      "Brand_Toyota                0.004406\n",
      "Fuel_Type_Petrol            0.003890\n",
      "Location_Hyderabad          0.002912\n",
      "Owner_Type_Second           0.001653\n",
      "Location_Coimbatore         0.001648\n",
      "Transmission_Manual         0.001639\n",
      "Location_Bangalore          0.001592\n",
      "Location_Pune               0.001583\n",
      "Location_Kochi              0.001510\n",
      "Fuel_Type_Diesel            0.001503\n",
      "Location_Delhi              0.001471\n",
      "Location_Mumbai             0.001457\n",
      "Location_Chennai            0.001170\n",
      "Location_Jaipur             0.000967\n",
      "Brand_Maruti                0.000955\n",
      "Brand_Land Rover            0.000845\n",
      "Brand_Hyundai               0.000587\n",
      "Brand_Porsche               0.000550\n",
      "Owner_Type_Third            0.000386\n",
      "Brand_Chevrolet             0.000308\n",
      "Brand_Jaguar                0.000289\n",
      "Fuel_Type_Electric          0.000247\n",
      "Brand_Ford                  0.000243\n",
      "Brand_Volkswagen            0.000210\n",
      "Brand_Fiat                  0.000171\n",
      "Brand_Skoda                 0.000163\n",
      "Brand_Honda                 0.000157\n",
      "Brand_Renault               0.000144\n",
      "Brand_Nissan                0.000130\n",
      "Brand_BMW                   0.000048\n",
      "Owner_Type_Fourth & Above   0.000044\n",
      "Brand_Mercedes-Benz         0.000044\n",
      "Brand_Audi                  0.000037\n",
      "Brand_Volvo                 0.000017\n",
      "Brand_Mahindra              0.000010\n",
      "Brand_Datsun                0.000004\n",
      "Brand_Mitsubishi            0.000003\n",
      "Fuel_Type_LPG               0.000001\n",
      "Brand_Mini                  0.000001\n",
      "Brand_Lamborghini           0.000000\n",
      "Brand_Jeep                  0.000000\n",
      "Brand_Isuzu                 0.000000\n",
      "Brand_Force                 0.000000\n",
      "Brand_Bentley               0.000000\n"
     ]
    }
   ],
   "source": [
    "print(pd.DataFrame(dtree.feature_importances_, columns = [\"dtree_Imp\"], index = X_train.columns).sort_values(by = 'dtree_Imp', ascending = False))"
   ]
  },
  {
   "cell_type": "markdown",
   "id": "e00868dd",
   "metadata": {},
   "source": [
    "**Observations and insights:**\n",
    "- From the tree model, the most important feature seems to be power, followed by year, new_price, and engine.\n",
    "- Brand of the car, especially for certain cars such as Lamborghini or Jeep, are not as important."
   ]
  },
  {
   "cell_type": "markdown",
   "id": "73db56be",
   "metadata": {},
   "source": [
    "### **Random Forest**"
   ]
  },
  {
   "cell_type": "code",
   "execution_count": 92,
   "id": "e55c37b6",
   "metadata": {},
   "outputs": [
    {
     "name": "stdout",
     "output_type": "stream",
     "text": [
      "R-sqaure on training set :  0.9660938248729404\n",
      "R-square on test set :  0.9000917494436175\n",
      "RMSE on training set :  2.0683109644107787\n",
      "RMSE on test set :  3.47903044433746\n"
     ]
    },
    {
     "data": {
      "text/plain": [
       "[0.9660938248729404, 0.9000917494436175, 2.0683109644107787, 3.47903044433746]"
      ]
     },
     "execution_count": 92,
     "metadata": {},
     "output_type": "execute_result"
    }
   ],
   "source": [
    "from sklearn.ensemble import RandomForestRegressor\n",
    "rf = RandomForestRegressor(random_state = 1)\n",
    "rf.fit(X_train, y_train['price_log'])\n",
    "\n",
    "get_model_score(rf)"
   ]
  },
  {
   "cell_type": "markdown",
   "id": "b587354c",
   "metadata": {},
   "source": [
    "**Observations and insights:**\n",
    "- Random forests perform very well on the training set, but like the decision tree model, not as well on the test set, indicating overfitting.\n",
    "- However, random forests do perform better than decision trees on the test set, with a higher r-squared and lower RMSE."
   ]
  },
  {
   "cell_type": "code",
   "execution_count": 93,
   "id": "1c8630ce",
   "metadata": {},
   "outputs": [
    {
     "name": "stdout",
     "output_type": "stream",
     "text": [
      "                                 RF_Imp\n",
      "Power                      4.417833e-01\n",
      "Year                       2.323396e-01\n",
      "New_price                  2.286603e-01\n",
      "Engine                     2.796549e-02\n",
      "kilometers_driven_log      1.444715e-02\n",
      "Mileage                    1.309927e-02\n",
      "Location_Kolkata           4.462448e-03\n",
      "Brand_Tata                 4.447776e-03\n",
      "Seats                      3.606331e-03\n",
      "Location_Hyderabad         3.155480e-03\n",
      "Location_Coimbatore        1.957183e-03\n",
      "Brand_Toyota               1.794996e-03\n",
      "Owner_Type_Second          1.650945e-03\n",
      "Location_Bangalore         1.574596e-03\n",
      "Transmission_Manual        1.430632e-03\n",
      "Location_Mumbai            1.394320e-03\n",
      "Location_Kochi             1.327841e-03\n",
      "Location_Pune              1.320686e-03\n",
      "Location_Delhi             1.243395e-03\n",
      "Location_Jaipur            1.197200e-03\n",
      "Fuel_Type_Diesel           1.127814e-03\n",
      "Location_Chennai           1.030706e-03\n",
      "Brand_Porsche              9.530995e-04\n",
      "Fuel_Type_Petrol           9.475659e-04\n",
      "Brand_Maruti               8.375652e-04\n",
      "Brand_Chevrolet            8.105378e-04\n",
      "Brand_Ford                 7.370046e-04\n",
      "Owner_Type_Third           7.098611e-04\n",
      "Brand_Hyundai              5.423718e-04\n",
      "Brand_Land Rover           3.788691e-04\n",
      "Brand_Volkswagen           3.675636e-04\n",
      "Brand_Honda                3.405034e-04\n",
      "Brand_Mahindra             3.301552e-04\n",
      "Fuel_Type_Electric         2.623060e-04\n",
      "Brand_Fiat                 2.218816e-04\n",
      "Brand_Lamborghini          1.944926e-04\n",
      "Brand_Mercedes-Benz        1.874954e-04\n",
      "Brand_Skoda                1.821141e-04\n",
      "Brand_Audi                 1.655822e-04\n",
      "Brand_BMW                  1.369714e-04\n",
      "Brand_Nissan               1.295510e-04\n",
      "Brand_Jaguar               1.268223e-04\n",
      "Brand_Mini                 1.087805e-04\n",
      "Brand_Renault              9.721477e-05\n",
      "Owner_Type_Fourth & Above  6.161271e-05\n",
      "Brand_Isuzu                5.682914e-05\n",
      "Brand_Mitsubishi           4.257618e-05\n",
      "Brand_Volvo                1.772021e-05\n",
      "Brand_Jeep                 1.210592e-05\n",
      "Brand_Bentley              1.188666e-05\n",
      "Fuel_Type_LPG              5.863012e-06\n",
      "Brand_Datsun               5.060606e-06\n",
      "Brand_Force                6.478253e-07\n"
     ]
    }
   ],
   "source": [
    "# Print important features similar to decision trees\n",
    "print(pd.DataFrame(rf.feature_importances_, columns = [\"RF_Imp\"], index = X_train.columns).sort_values(by = 'RF_Imp', ascending = False))"
   ]
  },
  {
   "cell_type": "markdown",
   "id": "42442078",
   "metadata": {},
   "source": [
    "**Observations and insights:**\n",
    "- Similar to decision trees, random forests prioritize power, followed by year and new_price.\n",
    "- Brands are not prioritized as much, indicating less importance.\n",
    "- Overall, the ranking of feature importance is very similar to the decision tree model."
   ]
  },
  {
   "cell_type": "markdown",
   "id": "6a2e749c",
   "metadata": {},
   "source": [
    "### **Hyperparameter Tuning: Decision Tree**"
   ]
  },
  {
   "cell_type": "code",
   "execution_count": 94,
   "id": "d6d945c8",
   "metadata": {},
   "outputs": [
    {
     "data": {
      "text/html": [
       "<style>#sk-container-id-1 {color: black;background-color: white;}#sk-container-id-1 pre{padding: 0;}#sk-container-id-1 div.sk-toggleable {background-color: white;}#sk-container-id-1 label.sk-toggleable__label {cursor: pointer;display: block;width: 100%;margin-bottom: 0;padding: 0.3em;box-sizing: border-box;text-align: center;}#sk-container-id-1 label.sk-toggleable__label-arrow:before {content: \"▸\";float: left;margin-right: 0.25em;color: #696969;}#sk-container-id-1 label.sk-toggleable__label-arrow:hover:before {color: black;}#sk-container-id-1 div.sk-estimator:hover label.sk-toggleable__label-arrow:before {color: black;}#sk-container-id-1 div.sk-toggleable__content {max-height: 0;max-width: 0;overflow: hidden;text-align: left;background-color: #f0f8ff;}#sk-container-id-1 div.sk-toggleable__content pre {margin: 0.2em;color: black;border-radius: 0.25em;background-color: #f0f8ff;}#sk-container-id-1 input.sk-toggleable__control:checked~div.sk-toggleable__content {max-height: 200px;max-width: 100%;overflow: auto;}#sk-container-id-1 input.sk-toggleable__control:checked~label.sk-toggleable__label-arrow:before {content: \"▾\";}#sk-container-id-1 div.sk-estimator input.sk-toggleable__control:checked~label.sk-toggleable__label {background-color: #d4ebff;}#sk-container-id-1 div.sk-label input.sk-toggleable__control:checked~label.sk-toggleable__label {background-color: #d4ebff;}#sk-container-id-1 input.sk-hidden--visually {border: 0;clip: rect(1px 1px 1px 1px);clip: rect(1px, 1px, 1px, 1px);height: 1px;margin: -1px;overflow: hidden;padding: 0;position: absolute;width: 1px;}#sk-container-id-1 div.sk-estimator {font-family: monospace;background-color: #f0f8ff;border: 1px dotted black;border-radius: 0.25em;box-sizing: border-box;margin-bottom: 0.5em;}#sk-container-id-1 div.sk-estimator:hover {background-color: #d4ebff;}#sk-container-id-1 div.sk-parallel-item::after {content: \"\";width: 100%;border-bottom: 1px solid gray;flex-grow: 1;}#sk-container-id-1 div.sk-label:hover label.sk-toggleable__label {background-color: #d4ebff;}#sk-container-id-1 div.sk-serial::before {content: \"\";position: absolute;border-left: 1px solid gray;box-sizing: border-box;top: 0;bottom: 0;left: 50%;z-index: 0;}#sk-container-id-1 div.sk-serial {display: flex;flex-direction: column;align-items: center;background-color: white;padding-right: 0.2em;padding-left: 0.2em;position: relative;}#sk-container-id-1 div.sk-item {position: relative;z-index: 1;}#sk-container-id-1 div.sk-parallel {display: flex;align-items: stretch;justify-content: center;background-color: white;position: relative;}#sk-container-id-1 div.sk-item::before, #sk-container-id-1 div.sk-parallel-item::before {content: \"\";position: absolute;border-left: 1px solid gray;box-sizing: border-box;top: 0;bottom: 0;left: 50%;z-index: -1;}#sk-container-id-1 div.sk-parallel-item {display: flex;flex-direction: column;z-index: 1;position: relative;background-color: white;}#sk-container-id-1 div.sk-parallel-item:first-child::after {align-self: flex-end;width: 50%;}#sk-container-id-1 div.sk-parallel-item:last-child::after {align-self: flex-start;width: 50%;}#sk-container-id-1 div.sk-parallel-item:only-child::after {width: 0;}#sk-container-id-1 div.sk-dashed-wrapped {border: 1px dashed gray;margin: 0 0.4em 0.5em 0.4em;box-sizing: border-box;padding-bottom: 0.4em;background-color: white;}#sk-container-id-1 div.sk-label label {font-family: monospace;font-weight: bold;display: inline-block;line-height: 1.2em;}#sk-container-id-1 div.sk-label-container {text-align: center;}#sk-container-id-1 div.sk-container {/* jupyter's `normalize.less` sets `[hidden] { display: none; }` but bootstrap.min.css set `[hidden] { display: none !important; }` so we also need the `!important` here to be able to override the default hidden behavior on the sphinx rendered scikit-learn.org. See: https://github.com/scikit-learn/scikit-learn/issues/21755 */display: inline-block !important;position: relative;}#sk-container-id-1 div.sk-text-repr-fallback {display: none;}</style><div id=\"sk-container-id-1\" class=\"sk-top-container\"><div class=\"sk-text-repr-fallback\"><pre>DecisionTreeRegressor(max_depth=5, max_leaf_nodes=30, random_state=1)</pre><b>In a Jupyter environment, please rerun this cell to show the HTML representation or trust the notebook. <br />On GitHub, the HTML representation is unable to render, please try loading this page with nbviewer.org.</b></div><div class=\"sk-container\" hidden><div class=\"sk-item\"><div class=\"sk-estimator sk-toggleable\"><input class=\"sk-toggleable__control sk-hidden--visually\" id=\"sk-estimator-id-1\" type=\"checkbox\" checked><label for=\"sk-estimator-id-1\" class=\"sk-toggleable__label sk-toggleable__label-arrow\">DecisionTreeRegressor</label><div class=\"sk-toggleable__content\"><pre>DecisionTreeRegressor(max_depth=5, max_leaf_nodes=30, random_state=1)</pre></div></div></div></div></div>"
      ],
      "text/plain": [
       "DecisionTreeRegressor(max_depth=5, max_leaf_nodes=30, random_state=1)"
      ]
     },
     "execution_count": 94,
     "metadata": {},
     "output_type": "execute_result"
    }
   ],
   "source": [
    "import warnings\n",
    "warnings.filterwarnings(\"ignore\")\n",
    "\n",
    "from sklearn.model_selection import GridSearchCV\n",
    "\n",
    "# Choose the type of estimator \n",
    "dtree_tuned = DecisionTreeRegressor(random_state = 1)\n",
    "\n",
    "# Grid of parameters to choose from\n",
    "# Check documentation for all the parametrs that the model takes and play with those\n",
    "parameters = {\"max_depth\": np.arange(5, 10),\n",
    "              \"max_leaf_nodes\": np.arange(30, 35),\n",
    "             }\n",
    "\n",
    "# Type of scoring used to compare parameter combinations\n",
    "scorer = metrics.make_scorer(metrics.f1_score, pos_label = 1)\n",
    "\n",
    "# Run the grid search\n",
    "grid_obj = GridSearchCV(dtree_tuned, param_grid = parameters, scoring = scorer, cv = 5)\n",
    "grid_obj = grid_obj.fit(X_train, y_train[\"price_log\"])\n",
    "\n",
    "# Set the model to the best combination of parameters\n",
    "dtree_tuned = grid_obj.best_estimator_\n",
    "\n",
    "# Fit the best algorithm to the data\n",
    "dtree_tuned.fit(X_train, y_train[\"price_log\"])"
   ]
  },
  {
   "cell_type": "code",
   "execution_count": 95,
   "id": "53b8ec37",
   "metadata": {},
   "outputs": [
    {
     "name": "stdout",
     "output_type": "stream",
     "text": [
      "R-sqaure on training set :  0.8361897700874239\n",
      "R-square on test set :  0.8428621635491143\n",
      "RMSE on training set :  4.546183315026243\n",
      "RMSE on test set :  4.3631278262573625\n"
     ]
    },
    {
     "data": {
      "text/plain": [
       "[0.8361897700874239, 0.8428621635491143, 4.546183315026243, 4.3631278262573625]"
      ]
     },
     "execution_count": 95,
     "metadata": {},
     "output_type": "execute_result"
    }
   ],
   "source": [
    "get_model_score(dtree_tuned)"
   ]
  },
  {
   "cell_type": "markdown",
   "id": "4fc2f631",
   "metadata": {},
   "source": [
    "**Observations and insights:**\n",
    "- Overfitting has been drastically reduced on the training set.\n",
    "- The model now performs similarly on both training and test sets."
   ]
  },
  {
   "cell_type": "markdown",
   "id": "8d465b4b",
   "metadata": {},
   "source": [
    "**Feature Importance**"
   ]
  },
  {
   "cell_type": "code",
   "execution_count": 96,
   "id": "20d844c4",
   "metadata": {},
   "outputs": [
    {
     "name": "stdout",
     "output_type": "stream",
     "text": [
      "                           dtree_tuned_Imp\n",
      "Power                             0.663144\n",
      "Year                              0.250657\n",
      "New_price                         0.075267\n",
      "Engine                            0.005499\n",
      "Brand_Tata                        0.003396\n",
      "Brand_Toyota                      0.002037\n",
      "Brand_Land Rover                  0.000000\n",
      "Brand_Fiat                        0.000000\n",
      "Brand_Force                       0.000000\n",
      "Brand_Ford                        0.000000\n",
      "Brand_Honda                       0.000000\n",
      "Brand_Hyundai                     0.000000\n",
      "Brand_Isuzu                       0.000000\n",
      "Brand_Jaguar                      0.000000\n",
      "Brand_Jeep                        0.000000\n",
      "Brand_Lamborghini                 0.000000\n",
      "Brand_Mercedes-Benz               0.000000\n",
      "Brand_Mahindra                    0.000000\n",
      "Brand_Maruti                      0.000000\n",
      "Brand_Chevrolet                   0.000000\n",
      "Brand_Mini                        0.000000\n",
      "Brand_Mitsubishi                  0.000000\n",
      "Brand_Nissan                      0.000000\n",
      "Brand_Porsche                     0.000000\n",
      "Brand_Renault                     0.000000\n",
      "Brand_Skoda                       0.000000\n",
      "Brand_Volkswagen                  0.000000\n",
      "Brand_Datsun                      0.000000\n",
      "Brand_BMW                         0.000000\n",
      "Brand_Bentley                     0.000000\n",
      "Mileage                           0.000000\n",
      "Seats                             0.000000\n",
      "kilometers_driven_log             0.000000\n",
      "Location_Bangalore                0.000000\n",
      "Location_Chennai                  0.000000\n",
      "Location_Coimbatore               0.000000\n",
      "Location_Delhi                    0.000000\n",
      "Location_Hyderabad                0.000000\n",
      "Location_Jaipur                   0.000000\n",
      "Location_Kochi                    0.000000\n",
      "Location_Kolkata                  0.000000\n",
      "Location_Mumbai                   0.000000\n",
      "Location_Pune                     0.000000\n",
      "Fuel_Type_Diesel                  0.000000\n",
      "Fuel_Type_Electric                0.000000\n",
      "Fuel_Type_LPG                     0.000000\n",
      "Fuel_Type_Petrol                  0.000000\n",
      "Transmission_Manual               0.000000\n",
      "Owner_Type_Fourth & Above         0.000000\n",
      "Owner_Type_Second                 0.000000\n",
      "Owner_Type_Third                  0.000000\n",
      "Brand_Audi                        0.000000\n",
      "Brand_Volvo                       0.000000\n"
     ]
    }
   ],
   "source": [
    "# Print important features of tuned decision tree similar to decision trees\n",
    "print(pd.DataFrame(dtree_tuned.feature_importances_, columns = [\"dtree_tuned_Imp\"], index = X_train.columns).sort_values(by = 'dtree_tuned_Imp', ascending = False))"
   ]
  },
  {
   "cell_type": "markdown",
   "id": "54c61ce1",
   "metadata": {},
   "source": [
    "**Observations and insights:**\n",
    "- Feature importance is very similar to that of an untuned decision tree in terms of the top features.\n",
    "- However, the tuning has seemed to brought out the most important features in determining car price.\n",
    "- Most of the importances are 0, but features that have a noticeable importance score are Power, Year, New_price, and Engine."
   ]
  },
  {
   "cell_type": "markdown",
   "id": "e11c0553",
   "metadata": {},
   "source": [
    "### **Hyperparameter Tuning: Random Forest**"
   ]
  },
  {
   "cell_type": "code",
   "execution_count": 97,
   "id": "bd8009bb",
   "metadata": {},
   "outputs": [
    {
     "data": {
      "text/html": [
       "<style>#sk-container-id-2 {color: black;background-color: white;}#sk-container-id-2 pre{padding: 0;}#sk-container-id-2 div.sk-toggleable {background-color: white;}#sk-container-id-2 label.sk-toggleable__label {cursor: pointer;display: block;width: 100%;margin-bottom: 0;padding: 0.3em;box-sizing: border-box;text-align: center;}#sk-container-id-2 label.sk-toggleable__label-arrow:before {content: \"▸\";float: left;margin-right: 0.25em;color: #696969;}#sk-container-id-2 label.sk-toggleable__label-arrow:hover:before {color: black;}#sk-container-id-2 div.sk-estimator:hover label.sk-toggleable__label-arrow:before {color: black;}#sk-container-id-2 div.sk-toggleable__content {max-height: 0;max-width: 0;overflow: hidden;text-align: left;background-color: #f0f8ff;}#sk-container-id-2 div.sk-toggleable__content pre {margin: 0.2em;color: black;border-radius: 0.25em;background-color: #f0f8ff;}#sk-container-id-2 input.sk-toggleable__control:checked~div.sk-toggleable__content {max-height: 200px;max-width: 100%;overflow: auto;}#sk-container-id-2 input.sk-toggleable__control:checked~label.sk-toggleable__label-arrow:before {content: \"▾\";}#sk-container-id-2 div.sk-estimator input.sk-toggleable__control:checked~label.sk-toggleable__label {background-color: #d4ebff;}#sk-container-id-2 div.sk-label input.sk-toggleable__control:checked~label.sk-toggleable__label {background-color: #d4ebff;}#sk-container-id-2 input.sk-hidden--visually {border: 0;clip: rect(1px 1px 1px 1px);clip: rect(1px, 1px, 1px, 1px);height: 1px;margin: -1px;overflow: hidden;padding: 0;position: absolute;width: 1px;}#sk-container-id-2 div.sk-estimator {font-family: monospace;background-color: #f0f8ff;border: 1px dotted black;border-radius: 0.25em;box-sizing: border-box;margin-bottom: 0.5em;}#sk-container-id-2 div.sk-estimator:hover {background-color: #d4ebff;}#sk-container-id-2 div.sk-parallel-item::after {content: \"\";width: 100%;border-bottom: 1px solid gray;flex-grow: 1;}#sk-container-id-2 div.sk-label:hover label.sk-toggleable__label {background-color: #d4ebff;}#sk-container-id-2 div.sk-serial::before {content: \"\";position: absolute;border-left: 1px solid gray;box-sizing: border-box;top: 0;bottom: 0;left: 50%;z-index: 0;}#sk-container-id-2 div.sk-serial {display: flex;flex-direction: column;align-items: center;background-color: white;padding-right: 0.2em;padding-left: 0.2em;position: relative;}#sk-container-id-2 div.sk-item {position: relative;z-index: 1;}#sk-container-id-2 div.sk-parallel {display: flex;align-items: stretch;justify-content: center;background-color: white;position: relative;}#sk-container-id-2 div.sk-item::before, #sk-container-id-2 div.sk-parallel-item::before {content: \"\";position: absolute;border-left: 1px solid gray;box-sizing: border-box;top: 0;bottom: 0;left: 50%;z-index: -1;}#sk-container-id-2 div.sk-parallel-item {display: flex;flex-direction: column;z-index: 1;position: relative;background-color: white;}#sk-container-id-2 div.sk-parallel-item:first-child::after {align-self: flex-end;width: 50%;}#sk-container-id-2 div.sk-parallel-item:last-child::after {align-self: flex-start;width: 50%;}#sk-container-id-2 div.sk-parallel-item:only-child::after {width: 0;}#sk-container-id-2 div.sk-dashed-wrapped {border: 1px dashed gray;margin: 0 0.4em 0.5em 0.4em;box-sizing: border-box;padding-bottom: 0.4em;background-color: white;}#sk-container-id-2 div.sk-label label {font-family: monospace;font-weight: bold;display: inline-block;line-height: 1.2em;}#sk-container-id-2 div.sk-label-container {text-align: center;}#sk-container-id-2 div.sk-container {/* jupyter's `normalize.less` sets `[hidden] { display: none; }` but bootstrap.min.css set `[hidden] { display: none !important; }` so we also need the `!important` here to be able to override the default hidden behavior on the sphinx rendered scikit-learn.org. See: https://github.com/scikit-learn/scikit-learn/issues/21755 */display: inline-block !important;position: relative;}#sk-container-id-2 div.sk-text-repr-fallback {display: none;}</style><div id=\"sk-container-id-2\" class=\"sk-top-container\"><div class=\"sk-text-repr-fallback\"><pre>RandomForestRegressor(max_depth=25, max_features=0.4, n_estimators=80,\n",
       "                      random_state=1)</pre><b>In a Jupyter environment, please rerun this cell to show the HTML representation or trust the notebook. <br />On GitHub, the HTML representation is unable to render, please try loading this page with nbviewer.org.</b></div><div class=\"sk-container\" hidden><div class=\"sk-item\"><div class=\"sk-estimator sk-toggleable\"><input class=\"sk-toggleable__control sk-hidden--visually\" id=\"sk-estimator-id-2\" type=\"checkbox\" checked><label for=\"sk-estimator-id-2\" class=\"sk-toggleable__label sk-toggleable__label-arrow\">RandomForestRegressor</label><div class=\"sk-toggleable__content\"><pre>RandomForestRegressor(max_depth=25, max_features=0.4, n_estimators=80,\n",
       "                      random_state=1)</pre></div></div></div></div></div>"
      ],
      "text/plain": [
       "RandomForestRegressor(max_depth=25, max_features=0.4, n_estimators=80,\n",
       "                      random_state=1)"
      ]
     },
     "execution_count": 97,
     "metadata": {},
     "output_type": "execute_result"
    }
   ],
   "source": [
    "# Choose the type of Regressor\n",
    "rf_tuned = RandomForestRegressor(random_state = 1)\n",
    "\n",
    "# Define the parameters for Grid to choose from\n",
    "\n",
    "# Check documentation for all the parametrs that the model takes and play with those\n",
    "parameters = {\"n_estimators\": [80, 90, 110],\n",
    "              \"max_depth\": [25, 50, 75],\n",
    "              \"max_features\": [0.4, 0.5, 0.6]\n",
    "             }\n",
    "\n",
    "# Type of scoring used to compare parameter combinations\n",
    "scorer = metrics.make_scorer(metrics.f1_score, pos_label = 1)\n",
    "\n",
    "# Run the grid search\n",
    "grid_obj = GridSearchCV(rf_tuned, parameters, scoring = scorer, cv = 5)\n",
    "grid_obj = grid_obj.fit(X_train, y_train[\"price_log\"])\n",
    "\n",
    "# Set the model to the best combination of parameters\n",
    "rf_tuned = grid_obj.best_estimator_\n",
    "\n",
    "# Fit the best algorithm to the data\n",
    "rf_tuned.fit(X_train, y_train['price_log'])"
   ]
  },
  {
   "cell_type": "code",
   "execution_count": 98,
   "id": "913427d9",
   "metadata": {},
   "outputs": [
    {
     "name": "stdout",
     "output_type": "stream",
     "text": [
      "R-sqaure on training set :  0.9685881162406991\n",
      "R-square on test set :  0.907548878804843\n",
      "RMSE on training set :  1.9907807132261952\n",
      "RMSE on test set :  3.3466757993885854\n"
     ]
    },
    {
     "data": {
      "text/plain": [
       "[0.9685881162406991, 0.907548878804843, 1.9907807132261952, 3.3466757993885854]"
      ]
     },
     "execution_count": 98,
     "metadata": {},
     "output_type": "execute_result"
    }
   ],
   "source": [
    "get_model_score(rf_tuned)"
   ]
  },
  {
   "cell_type": "markdown",
   "id": "dddc385c",
   "metadata": {},
   "source": [
    "**Observations and insights:**\n",
    "- Test set performance has improved, and RMSE has decreased as well.\n",
    "- Overal performance on both train and test set has improved, with a higher r-squared and lower RMSE."
   ]
  },
  {
   "cell_type": "markdown",
   "id": "6788062b",
   "metadata": {},
   "source": [
    "**Feature Importance**"
   ]
  },
  {
   "cell_type": "code",
   "execution_count": 99,
   "id": "8de623cc",
   "metadata": {},
   "outputs": [
    {
     "name": "stdout",
     "output_type": "stream",
     "text": [
      "                           rf_tuned_Imp\n",
      "Power                          0.287055\n",
      "New_price                      0.217108\n",
      "Year                           0.191662\n",
      "Engine                         0.095689\n",
      "Transmission_Manual            0.071709\n",
      "kilometers_driven_log          0.027147\n",
      "Mileage                        0.024704\n",
      "Fuel_Type_Diesel               0.020095\n",
      "Seats                          0.011436\n",
      "Location_Kolkata               0.004896\n",
      "Fuel_Type_Petrol               0.004730\n",
      "Brand_Mercedes-Benz            0.003897\n",
      "Brand_Tata                     0.003702\n",
      "Owner_Type_Second              0.003329\n",
      "Location_Hyderabad             0.003084\n",
      "Location_Coimbatore            0.003026\n",
      "Brand_Toyota                   0.001915\n",
      "Owner_Type_Third               0.001771\n",
      "Location_Jaipur                0.001766\n",
      "Location_Mumbai                0.001675\n",
      "Location_Pune                  0.001505\n",
      "Brand_Honda                    0.001496\n",
      "Location_Kochi                 0.001473\n",
      "Location_Bangalore             0.001468\n",
      "Brand_Maruti                   0.001338\n",
      "Location_Delhi                 0.001335\n",
      "Location_Chennai               0.001141\n",
      "Brand_Chevrolet                0.001113\n",
      "Brand_Hyundai                  0.001044\n",
      "Brand_Ford                     0.000935\n",
      "Brand_Mahindra                 0.000826\n",
      "Brand_Skoda                    0.000736\n",
      "Brand_Porsche                  0.000707\n",
      "Brand_Volkswagen               0.000699\n",
      "Brand_Mini                     0.000619\n",
      "Brand_Land Rover               0.000564\n",
      "Brand_Lamborghini              0.000393\n",
      "Brand_Audi                     0.000372\n",
      "Brand_BMW                      0.000368\n",
      "Brand_Fiat                     0.000276\n",
      "Brand_Nissan                   0.000229\n",
      "Brand_Renault                  0.000226\n",
      "Brand_Jaguar                   0.000153\n",
      "Brand_Mitsubishi               0.000119\n",
      "Fuel_Type_Electric             0.000110\n",
      "Owner_Type_Fourth & Above      0.000101\n",
      "Brand_Jeep                     0.000098\n",
      "Brand_Isuzu                    0.000073\n",
      "Brand_Volvo                    0.000029\n",
      "Brand_Datsun                   0.000020\n",
      "Brand_Bentley                  0.000019\n",
      "Fuel_Type_LPG                  0.000017\n",
      "Brand_Force                    0.000002\n"
     ]
    }
   ],
   "source": [
    "# Print important features of tuned decision tree similar to decision trees\n",
    "print(pd.DataFrame(rf_tuned.feature_importances_, columns = [\"rf_tuned_Imp\"], index = X_train.columns).sort_values(by = 'rf_tuned_Imp', ascending = False))"
   ]
  },
  {
   "cell_type": "markdown",
   "id": "a5172d7e",
   "metadata": {},
   "source": [
    "**Observations and insights:**\n",
    "- Similar to the untuned random forest model, power, year, new_price, and engine are the most important features in determining the estimated price of a used car.\n",
    "- Some other features, such as manual transmission, kilometers driven, and mileage are more emphasized in this model.\n",
    "- Unlike the tuned decision tree model, random forests take into account more features, albeit with varying importances."
   ]
  },
  {
   "cell_type": "code",
   "execution_count": 100,
   "id": "0c61746f",
   "metadata": {},
   "outputs": [],
   "source": [
    "# Defining list of models we have trained\n",
    "models = [lr, dtree_tuned, ridge, rf_tuned]\n",
    "\n",
    "# Defining empty lists to add train and test results\n",
    "r2_train = []\n",
    "r2_test = []\n",
    "rmse_train = []\n",
    "rmse_test = []\n",
    "\n",
    "# Looping through all the models to get the rmse and r2 scores\n",
    "for model in models:\n",
    "    \n",
    "    # Accuracy score\n",
    "    j = get_model_score(model, False)\n",
    "    \n",
    "    r2_train.append(j[0])\n",
    "    \n",
    "    r2_test.append(j[1])\n",
    "    \n",
    "    rmse_train.append(j[2])\n",
    "    \n",
    "    rmse_test.append(j[3])"
   ]
  },
  {
   "cell_type": "code",
   "execution_count": 101,
   "id": "f5745a71",
   "metadata": {},
   "outputs": [
    {
     "data": {
      "text/html": [
       "<div>\n",
       "<style scoped>\n",
       "    .dataframe tbody tr th:only-of-type {\n",
       "        vertical-align: middle;\n",
       "    }\n",
       "\n",
       "    .dataframe tbody tr th {\n",
       "        vertical-align: top;\n",
       "    }\n",
       "\n",
       "    .dataframe thead th {\n",
       "        text-align: right;\n",
       "    }\n",
       "</style>\n",
       "<table border=\"1\" class=\"dataframe\">\n",
       "  <thead>\n",
       "    <tr style=\"text-align: right;\">\n",
       "      <th></th>\n",
       "      <th>Model</th>\n",
       "      <th>Train_r2</th>\n",
       "      <th>Test_r2</th>\n",
       "      <th>Train_RMSE</th>\n",
       "      <th>Test_RMSE</th>\n",
       "    </tr>\n",
       "  </thead>\n",
       "  <tbody>\n",
       "    <tr>\n",
       "      <th>0</th>\n",
       "      <td>Linear Regression</td>\n",
       "      <td>0.853323</td>\n",
       "      <td>0.877730</td>\n",
       "      <td>4.301867</td>\n",
       "      <td>3.848730</td>\n",
       "    </tr>\n",
       "    <tr>\n",
       "      <th>1</th>\n",
       "      <td>Decision Tree</td>\n",
       "      <td>0.836190</td>\n",
       "      <td>0.842862</td>\n",
       "      <td>4.546183</td>\n",
       "      <td>4.363128</td>\n",
       "    </tr>\n",
       "    <tr>\n",
       "      <th>2</th>\n",
       "      <td>Ridge Regression</td>\n",
       "      <td>0.850400</td>\n",
       "      <td>0.878088</td>\n",
       "      <td>4.344519</td>\n",
       "      <td>3.843092</td>\n",
       "    </tr>\n",
       "    <tr>\n",
       "      <th>3</th>\n",
       "      <td>Random Forest</td>\n",
       "      <td>0.968588</td>\n",
       "      <td>0.907549</td>\n",
       "      <td>1.990781</td>\n",
       "      <td>3.346676</td>\n",
       "    </tr>\n",
       "  </tbody>\n",
       "</table>\n",
       "</div>"
      ],
      "text/plain": [
       "               Model  Train_r2   Test_r2  Train_RMSE  Test_RMSE\n",
       "0  Linear Regression  0.853323  0.877730    4.301867   3.848730\n",
       "1      Decision Tree  0.836190  0.842862    4.546183   4.363128\n",
       "2   Ridge Regression  0.850400  0.878088    4.344519   3.843092\n",
       "3      Random Forest  0.968588  0.907549    1.990781   3.346676"
      ]
     },
     "execution_count": 101,
     "metadata": {},
     "output_type": "execute_result"
    }
   ],
   "source": [
    "comparison_frame = pd.DataFrame({'Model':['Linear Regression','Decision Tree', 'Ridge Regression', 'Random Forest'], \n",
    "                                          'Train_r2': r2_train,'Test_r2': r2_test,\n",
    "                                          'Train_RMSE': rmse_train,'Test_RMSE': rmse_test}) \n",
    "comparison_frame"
   ]
  },
  {
   "cell_type": "markdown",
   "id": "b1b08d94",
   "metadata": {},
   "source": [
    "**Observations:**\n",
    "- The tuned Random Forest model seems to perform the best overall on the data, with a high r-squared and low RMSE on both train and test sets.\n",
    "- The Random Forest model performs better on training than test, implying that the model is overfitting on training data.\n",
    "- The tuned Decision Tree model performs the most consistently between train and test, with little overfitting."
   ]
  },
  {
   "cell_type": "markdown",
   "id": "231350aa",
   "metadata": {},
   "source": [
    "### **Insights**\n",
    "\n",
    "**Refined insights**:\n",
    "- The most important features that contribute to the price of a used car, as supported by all the models tested so far, are:\n",
    "    - The power of the car\n",
    "    - The price of the car when it's bought new\n",
    "    - The year the car was manufactured\n",
    "    - The performance of the car's engine\n",
    "- A car with more power is likely to be more expensive.\n",
    "- The higher the price of the car when it was bought new, the higher the price of the car bought used.\n",
    "- The better the car performs, the more it will be valued.\n",
    "\n",
    "**Comparison of various techniques and their relative performance**:\n",
    "- Linear and Ridge regression perform similarly, with similar r-squared scores and RMSE.\n",
    "- Decision tree performs the poorest out of the models that were tested, but has the least variation between training and testing scores.\n",
    "- Random Forest performs the best out of the tested models, with a high r-squared score and low RMSE. However, it also has the greatest variation between training and testing scores.\n",
    "- There is room to improve upon the Random Forest model, by pruning the trees to prevent overfitting.\n",
    "\n",
    "**Proposal for the final solution design**:\n",
    "- Random Forest would be the best solution in this scenario.\n",
    "- It performs the best out of the tested models by a noticeable margin, and takes into account many features to make its predictions.\n",
    "- Its only drawback--the overfitting--can be mitigated by developing and improving the model further."
   ]
  },
  {
   "cell_type": "markdown",
   "id": "12bd110b",
   "metadata": {},
   "source": [
    "References:\n",
    "- https://www.nydailynews.com/autos/street-smarts/buying-car-smart-article-1.2542710\n",
    "- Great Learning / MIT Applied Data Science Program"
   ]
  }
 ],
 "metadata": {
  "kernelspec": {
   "display_name": "Python 3",
   "language": "python",
   "name": "python3"
  },
  "language_info": {
   "codemirror_mode": {
    "name": "ipython",
    "version": 3
   },
   "file_extension": ".py",
   "mimetype": "text/x-python",
   "name": "python",
   "nbconvert_exporter": "python",
   "pygments_lexer": "ipython3",
   "version": "3.8.8"
  }
 },
 "nbformat": 4,
 "nbformat_minor": 5
}
